{
 "cells": [
  {
   "cell_type": "markdown",
   "metadata": {},
   "source": [
    "#Homework 5"
   ]
  },
  {
   "cell_type": "code",
   "execution_count": 2,
   "metadata": {
    "collapsed": false
   },
   "outputs": [],
   "source": [
    "import numpy as np\n",
    "%matplotlib inline\n",
    "from matplotlib import pyplot as plt\n",
    "import math\n",
    "from math import exp"
   ]
  },
  {
   "cell_type": "markdown",
   "metadata": {},
   "source": [
    "1) If we use trapezoid rule to find the\n",
    "$$\\int \\limits_{x=1}^{3} e^{-x} \\; dx$$\n",
    "using $10$ pieces. What would be our value and what is our bound on error? Verify that you actual error is within the bound your got."
   ]
  },
  {
   "cell_type": "code",
   "execution_count": 3,
   "metadata": {
    "collapsed": false
   },
   "outputs": [
    {
     "data": {
      "text/plain": [
       "('A: ', 0.31809247883436187, 'Error: ', 0.0024525296078096157)"
      ]
     },
     "execution_count": 3,
     "metadata": {},
     "output_type": "execute_result"
    }
   ],
   "source": [
    "def df(x):\n",
    "    return np.exp(-x)\n",
    "def df2(x):\n",
    "    return np.exp(-x)\n",
    "def cal_error(fm, to, n, df2):\n",
    "    return (((to - fm)**3.)/(12. * n**2))*np.max([df2(fm), df2(to)])\n",
    "def trapz(f,a,b,n):\n",
    "    edges = np.linspace(a,b,n+1)\n",
    "    n = float(n)\n",
    "    h = (b-a)/n\n",
    "    #sum it up\n",
    "    return (sum(f(e) for e in edges[1:-1]) + 0.5*(f(a) + f(b)))*h\n",
    "area = trapz(df2,1,3,1000)\n",
    "error = cal_error(1,3,10,df)\n",
    "\"A: \",area, \"Error: \", error"
   ]
  },
  {
   "cell_type": "markdown",
   "metadata": {},
   "source": [
    "1.1) If we want to evaluate the integral in the previous question such that the answer is at most $10^{-6}$ from the real answer. How many pieces do we need?"
   ]
  },
  {
   "cell_type": "code",
   "execution_count": 4,
   "metadata": {
    "collapsed": false
   },
   "outputs": [
    {
     "name": "stdout",
     "output_type": "stream",
     "text": [
      "496\n"
     ]
    }
   ],
   "source": [
    "def cal_terms(df2, fm, to, e = 1e-6):\n",
    "    n = 1\n",
    "    while np.abs(cal_error(fm, to, n, df2)) >= e:\n",
    "        n += 1\n",
    "    return n\n",
    "print cal_terms(df2,1.,3)"
   ]
  },
  {
   "cell_type": "markdown",
   "metadata": {},
   "source": [
    "2) Simple linear regression. Fit the data in `prob2.txt` with a straight line. Plot to verify."
   ]
  },
  {
   "cell_type": "code",
   "execution_count": 5,
   "metadata": {
    "collapsed": false
   },
   "outputs": [
    {
     "name": "stdout",
     "output_type": "stream",
     "text": [
      "(100,) (100,)\n",
      "LinregressResult(slope=1.2484934081708534, intercept=6.4996360411791452, rvalue=0.9912151272350509, pvalue=6.4387745359159163e-88, stderr=0.016827985297414964)\n",
      "1.24849340817 6.49963604118\n"
     ]
    },
    {
     "data": {
      "text/plain": [
       "[<matplotlib.lines.Line2D at 0x115759190>]"
      ]
     },
     "execution_count": 5,
     "metadata": {},
     "output_type": "execute_result"
    },
    {
     "data": {
      "image/png": "[encoded data removed]",
      "text/plain": [
       "<matplotlib.figure.Figure at 0x110defd90>"
      ]
     },
     "metadata": {},
     "output_type": "display_data"
    }
   ],
   "source": [
    "xs, ys = np.loadtxt('prob2.txt')\n",
    "plt.plot(xs,ys,'o')\n",
    "print xs.shape,ys.shape\n",
    "\n",
    "from scipy.stats import linregress\n",
    "info = linregress(xs, ys)\n",
    "print info\n",
    "m = info.slope\n",
    "c = info.intercept\n",
    "minimum = min(xs)\n",
    "maximum = max(xs)\n",
    "linex= np.linspace(minimum,maximum,100)\n",
    "\n",
    "def k(x):\n",
    "    return m*x + c\n",
    "print m,c \n",
    "liney = [k(i) for i in linex]\n",
    "plt.plot(linex,liney,color = 'red')\n",
    "\n"
   ]
  },
  {
   "cell_type": "code",
   "execution_count": 6,
   "metadata": {
    "collapsed": false
   },
   "outputs": [],
   "source": [
    "data_x,data_y = xs, ys\n",
    "Zx =0\n",
    "Zx2 = 0\n",
    "Zy = 0\n",
    "Zyx = 0\n",
    "for i,j in zip(data_x,data_y):\n",
    "    Zx += i\n",
    "    Zx2 += i**2\n",
    "    Zy += j\n",
    "    Zyx += j*i\n",
    "\n",
    "A = np.array([[Zx2,Zx],[Zx,len(data_x)]])\n",
    "B = np.array([Zyx,Zy])"
   ]
  },
  {
   "cell_type": "code",
   "execution_count": 7,
   "metadata": {
    "collapsed": false
   },
   "outputs": [
    {
     "name": "stdout",
     "output_type": "stream",
     "text": [
      "1.24849340817 6.49963604118\n"
     ]
    },
    {
     "data": {
      "text/plain": [
       "[<matplotlib.lines.Line2D at 0x115cf00d0>]"
      ]
     },
     "execution_count": 7,
     "metadata": {},
     "output_type": "execute_result"
    },
    {
     "data": {
      "image/png": "[encoded data removed]",
      "text/plain": [
       "<matplotlib.figure.Figure at 0x110def990>"
      ]
     },
     "metadata": {},
     "output_type": "display_data"
    }
   ],
   "source": [
    "m,c = np.linalg.solve(A,B)\n",
    "\n",
    "plt.plot(data_x,data_y, '.')\n",
    "print m,c\n",
    "def k(x):\n",
    "    return m*x + c\n",
    "\n",
    "ys = [k(x) for x in data_x]\n",
    "plt.plot(data_x,ys)"
   ]
  },
  {
   "cell_type": "code",
   "execution_count": null,
   "metadata": {
    "collapsed": false
   },
   "outputs": [],
   "source": [
    "\n"
   ]
  },
  {
   "cell_type": "markdown",
   "metadata": {},
   "source": [
    "3) Simpson's rule. In the class, we learn how to use trapezoid rule to numerically the integral. In this problem you will find a better rule to evaluate the integral.\n",
    "\n",
    "You will show this in the next problem that\n",
    "\n",
    "$$\\int \\limits_{x=a}^{a+nh} f(x) \\; dx \\approx \\frac{h}{3} \\left(  f(x_0) + 4 \\sum^{n-1}_{i=1,3,5\\ldots} f(x_i) + 2 \\sum^{n-2}_{j=2,4,6\\ldots} f(x_j)+ f(x_n)\\right) $$\n",
    "\n",
    "where $x_i = a+ih$.\n",
    "\n",
    "\n"
   ]
  },
  {
   "cell_type": "markdown",
   "metadata": {},
   "source": [
    "3.1) Use Simpson's Rule described above to find\n",
    "\n",
    "$$\\int \\limits_{x=1}^{3} e^{-x} \\; dx$$\n",
    "\n",
    "using n = 10. This is the same integral as the one in problem 1."
   ]
  },
  {
   "cell_type": "code",
   "execution_count": 8,
   "metadata": {
    "collapsed": false
   },
   "outputs": [
    {
     "data": {
      "text/plain": [
       "0.31809518688342875"
      ]
     },
     "execution_count": 8,
     "metadata": {},
     "output_type": "execute_result"
    }
   ],
   "source": [
    "def simpson(f, a, b, n):\n",
    "    h = (b-a)/n\n",
    "    k = 0.0\n",
    "    x = a + h\n",
    "    for i in range(1,n/2 + 1):\n",
    "        k += 4*f(x)\n",
    "        x += 2*h\n",
    "    x = a + 2*h\n",
    "    for i in range(1,n/2):\n",
    "        k += 2*f(x)\n",
    "        x += 2*h\n",
    "    return (h/3)*(f(a)+f(b)+k)\n",
    "\n",
    "simpson(df,1.,3.,10)"
   ]
  },
  {
   "cell_type": "markdown",
   "metadata": {},
   "source": [
    "Now we will try to understand why the formula shown above works. The key idea is that instead of approximating the area under the curve using trapezoid shape. We will use parabola to approximate the shape. Let us consider a curve $f(x)$ that we want to integrate\n",
    "\n",
    "$$\\int \\limits_{x=a}^{x=a+2h} f(x) \\;dx$$\n",
    "\n",
    "We will use parabola to approximate the area. This parabola will have to pass through three points.\n",
    "    $$[x, f(x)], [x+h, f(x+h)], [x+2h, f(x+2h)]$$\n",
    "    \n",
    "Concretely, suppose that we want to calculate\n",
    "\n",
    "$$\\int \\limits_{x=1}^{x=3} e^{-x} \\;dx $$\n",
    "\n",
    "with $h=1$. The parabola is shown below."
   ]
  },
  {
   "cell_type": "code",
   "execution_count": 9,
   "metadata": {
    "collapsed": false
   },
   "outputs": [
    {
     "data": {
      "text/plain": [
       "<matplotlib.legend.Legend at 0x115d444d0>"
      ]
     },
     "execution_count": 9,
     "metadata": {},
     "output_type": "execute_result"
    },
    {
     "data": {
      "image/png": "[encoded data removed]",
      "text/plain": [
       "<matplotlib.figure.Figure at 0x110def0d0>"
      ]
     },
     "metadata": {},
     "output_type": "display_data"
    }
   ],
   "source": [
    "def f(x):\n",
    "    return math.exp(-x)\n",
    "\n",
    "def df(x):\n",
    "    return -math.exp(-x)\n",
    "#let h = 1\n",
    "#we are interested in parabola that passes through\n",
    "#(1, e^-1), (2, e^-2), (3, e^-3)\n",
    "#We can us Legendre Polynomail for this.\n",
    "def poly(x):\n",
    "    #legendre polynomial that passes through (1, e^-1), (2, e^-2), (3, e^-3)\n",
    "    return 0.74742 - 0.453038*x + 0.073498*x**2\n",
    "\n",
    "x = np.linspace(1, 3,100)\n",
    "ty = [f(xx) for xx in x]\n",
    "py = [poly(xx) for xx in x]\n",
    "plt.plot(x, ty, label='f(x)')\n",
    "plt.plot(x,py, label='legendre')\n",
    "plt.plot([1,2,3],[exp(-1),exp(-2),exp(-3)],'o',label=('x, x+h, x+2h'))\n",
    "plt.xlim(0.9,3.1)\n",
    "plt.grid()\n",
    "plt.legend(loc='upper right')"
   ]
  },
  {
   "cell_type": "markdown",
   "metadata": {
    "collapsed": true
   },
   "source": [
    "3.2)From the picture above we can estimate the area of the blue curve using the area under the green parabola. This approximation is much better than trapezoid one since it capture some of the curvature of the curve.\n",
    "\n",
    "Your job is\n",
    "\n",
    " 1. Find the polynomial of degree two that passes through \n",
    " \n",
    " $$[x,f(x)], [x+h, f(x+h)], [x+2h, f(x+2h)]$$\n",
    " \n",
    " 2. Show that the area under the polynomial you found ealirer is\n",
    " \n",
    " $$ A = \\frac{h}{3} \\left[f(x)+4 f(x+h) + f(x+2h) \\right] $$\n",
    " \n",
    " All you need to do is to find whatever you got in 1) analytically. Use Wolfram Alpha or Mathematica if needed."
   ]
  },
  {
   "cell_type": "code",
   "execution_count": 10,
   "metadata": {
    "collapsed": false
   },
   "outputs": [
    {
     "data": {
      "text/plain": [
       "-0.319669214161919"
      ]
     },
     "execution_count": 10,
     "metadata": {},
     "output_type": "execute_result"
    }
   ],
   "source": [
    "def simpson(f, a, b, n):\n",
    "    h = (b-a)/n\n",
    "    k = 0.0\n",
    "    x = a + h\n",
    "    for i in range(1,n/2 + 1):\n",
    "        k += 4*f(x)\n",
    "        x += 2*h\n",
    "    x = a + 2*h\n",
    "    for i in range(1,n/2):\n",
    "        k += 2*f(x)\n",
    "        x += 2*h\n",
    "    return (h/3)*(f(a)+f(b)+k)\n",
    "\n",
    "simpson(df,1.,3.,2)"
   ]
  },
  {
   "cell_type": "markdown",
   "metadata": {
    "collapsed": true
   },
   "source": [
    "3.3) Use what you found in 3.2. To show that if you subdivide the interval $[a,b]$ into $n$(even number) subdivision each one with with $h$ and we approximate the area of each two pieces using legendre polynomial as we have done in 3.1, we will find that\n",
    "\n",
    "$$\\int \\limits_{x=a}^{a+nh} f(x) \\; dx \\approx \\frac{h}{3} \\left(  f(x_0) + 4 \\sum^{n-1}_{i=1,3,5\\ldots} f(x_i) + 2 \\sum^{n-2}_{j=2,4,6\\ldots} f(x_j)+ f(x_n)\\right) $$\n",
    "\n",
    "This formula is called Simpson's 1/3 rule. It converges with $O(1/n^4)$. Much faster than Trapezoid. Proving this convergence behavior is similar to how we get one for trapezoid but the algebra is a lot more involved."
   ]
  },
  {
   "cell_type": "code",
   "execution_count": 11,
   "metadata": {
    "collapsed": true
   },
   "outputs": [],
   "source": [
    "x, y = np.loadtxt('prob4.txt')\n"
   ]
  },
  {
   "cell_type": "markdown",
   "metadata": {},
   "source": [
    "4) Load the data in `prob4.txt`. We want to fit this data with the following function \n",
    "\n",
    "$$f(x) = a \\exp(-x) + c$$\n",
    "\n",
    "where $a$ and $c$ are parameters. \n",
    "\n",
    "Find the $a$ and $c$ that give you the \"best fit\".\n",
    "\n",
    "Make a plot to verify the answer."
   ]
  },
  {
   "cell_type": "code",
   "execution_count": 12,
   "metadata": {
    "collapsed": false
   },
   "outputs": [
    {
     "name": "stdout",
     "output_type": "stream",
     "text": [
      "LinregressResult(slope=-0.44446319734993706, intercept=2.7912725770434625, rvalue=-0.9580399753684713, pvalue=5.5163873105178138e-55, stderr=0.013432838138512725)\n",
      "-0.44446319735 2.79127257704\n"
     ]
    },
    {
     "data": {
      "text/plain": [
       "[<matplotlib.lines.Line2D at 0x115c0dbd0>]"
      ]
     },
     "execution_count": 12,
     "metadata": {},
     "output_type": "execute_result"
    },
    {
     "data": {
      "image/png": "[encoded data removed]",
      "text/plain": [
       "<matplotlib.figure.Figure at 0x115759c10>"
      ]
     },
     "metadata": {},
     "output_type": "display_data"
    }
   ],
   "source": [
    "from scipy.stats import linregress\n",
    "info = linregress(x, y)\n",
    "print info\n",
    "plt.plot(x,y,'o')\n",
    "a = info.slope\n",
    "c = info.intercept\n",
    "minimum = min(x)\n",
    "maximum = max(x)\n",
    "linex= np.linspace(minimum,maximum,100)\n",
    "print a,c\n",
    "def k(x):\n",
    "    return 3.07838544*np.exp(-x) + 1.41483474\n",
    "liney = [k(i) for i in linex]\n",
    "plt.plot(linex,liney,color = 'red')\n"
   ]
  },
  {
   "cell_type": "code",
   "execution_count": 13,
   "metadata": {
    "collapsed": false
   },
   "outputs": [
    {
     "name": "stdout",
     "output_type": "stream",
     "text": [
      "Optimization terminated successfully.\n",
      "         Current function value: 0.219237\n",
      "         Iterations: 77\n",
      "         Function evaluations: 147\n",
      "a :  1.41483474266 b: 3.07838544183\n"
     ]
    },
    {
     "data": {
      "text/plain": [
       "[<matplotlib.lines.Line2D at 0x115b7f6d0>]"
      ]
     },
     "execution_count": 13,
     "metadata": {},
     "output_type": "execute_result"
    },
    {
     "data": {
      "image/png": "[encoded data removed]",
      "text/plain": [
       "<matplotlib.figure.Figure at 0x115b7f550>"
      ]
     },
     "metadata": {},
     "output_type": "display_data"
    }
   ],
   "source": [
    "xs, ys = np.loadtxt('prob4.txt')\n",
    "def padAll(xs):\n",
    "    tmp = np.zeros((xs.size, 2))\n",
    "    for i in xrange(xs.size):\n",
    "        tmp[i, 0] = 1.\n",
    "        tmp[i, 1] = np.exp(-xs[i])\n",
    "    return tmp\n",
    "def cost(ws):\n",
    "    tmp = 0\n",
    "    for i in xrange(xs.size):\n",
    "        guess = np.sum([ws[j] * pxs[i][j] for j in xrange(len(ws))]) #(ws[0] * pxs[i][0]) + (ws[1] * pxs[i][1])\n",
    "        tmp += (ys[i] - guess)**2\n",
    "    return tmp\n",
    "\n",
    "pxs = padAll(xs)\n",
    "import scipy.optimize as opt\n",
    "res = opt.fmin(cost, [0.,1.])  \n",
    "c = res[0]\n",
    "a = res[1]\n",
    "print \"a : \", res[0],'b:',res[1]\n",
    "def k(x):\n",
    "    return a*np.exp(-x) + c\n",
    "liney = [k(i) for i in linex]\n",
    "guesses = np.dot(pxs, res)\n",
    "plt.plot(xs, ys,'o')\n",
    "plt.plot(linex,liney,color = 'red')\n"
   ]
  },
  {
   "cell_type": "code",
   "execution_count": 14,
   "metadata": {
    "collapsed": false
   },
   "outputs": [
    {
     "name": "stdout",
     "output_type": "stream",
     "text": [
      "Optimization terminated successfully.\n",
      "         Current function value: 0.219237\n",
      "         Iterations: 51\n",
      "         Function evaluations: 99\n",
      "a :  3.07844472904 b: 1.41482594613\n"
     ]
    },
    {
     "data": {
      "text/plain": [
       "[<matplotlib.lines.Line2D at 0x115c57910>]"
      ]
     },
     "execution_count": 14,
     "metadata": {},
     "output_type": "execute_result"
    },
    {
     "data": {
      "image/png": "[encoded data removed]",
      "text/plain": [
       "<matplotlib.figure.Figure at 0x115b7f710>"
      ]
     },
     "metadata": {},
     "output_type": "display_data"
    }
   ],
   "source": [
    "xs, ys = np.loadtxt('prob4.txt')\n",
    "def cost(w):\n",
    "    a,c = w\n",
    "    summ = 0\n",
    "    for i in range(len(xs)):\n",
    "        summ += (a*np.exp(-xs[i] )+ c - ys[i])**2\n",
    "    return summ\n",
    "        \n",
    "import scipy.optimize as opt\n",
    "res = opt.fmin(cost, [1.,1.])  \n",
    "c = res[0]\n",
    "a = res[1]\n",
    "print \"a : \", res[0],'b:',res[1]\n",
    "def k(x):\n",
    "    return a*np.exp(-x) + c\n",
    "liney = [k(i) for i in linex]\n",
    "\n",
    "plt.plot(xs, ys,'o')\n",
    "plt.plot(linex,liney,color = 'red')"
   ]
  },
  {
   "cell_type": "code",
   "execution_count": 15,
   "metadata": {
    "collapsed": false
   },
   "outputs": [
    {
     "data": {
      "text/plain": [
       "[<matplotlib.lines.Line2D at 0x11631fe90>]"
      ]
     },
     "execution_count": 15,
     "metadata": {},
     "output_type": "execute_result"
    },
    {
     "data": {
      "image/png": "[encoded data removed]",
      "text/plain": [
       "<matplotlib.figure.Figure at 0x11631fa10>"
      ]
     },
     "metadata": {},
     "output_type": "display_data"
    }
   ],
   "source": [
    "data_x, data_y = np.loadtxt('prob4.txt')\n",
    "Zx =0\n",
    "Zx2 = 0\n",
    "Zy = 0\n",
    "Zyx = 0\n",
    "for x,y in zip(data_x,data_y):\n",
    "    Zx += math.exp(-x)\n",
    "    Zx2 += math.exp(-x)**2\n",
    "    Zy += y\n",
    "    Zyx += math.exp(-x)*y\n",
    "\n",
    "A = np.array([\n",
    "              [Zx2,Zx],\n",
    "              [Zx,len(data_x)]\n",
    "             ])\n",
    "B = np.array([Zyx,Zy])\n",
    "a,c= np.linalg.solve(A,B)\n",
    "def k(x):\n",
    "    return a*np.exp(-x) + c\n",
    "linex = np.linspace(1,3,1000)\n",
    "liney = [k(i) for i in linex]\n",
    "\n",
    "plt.plot(xs, ys,'o')\n",
    "plt.plot(linex,liney)\n",
    "\n",
    "\n",
    "\n",
    "\n"
   ]
  },
  {
   "cell_type": "code",
   "execution_count": null,
   "metadata": {
    "collapsed": false
   },
   "outputs": [],
   "source": []
  },
  {
   "cell_type": "markdown",
   "metadata": {},
   "source": [
    "5) Shipyard. ship_speed_fuel.csv and ship_speed_fuel.txt contains data for fuel consumption and ship speed. You can load them up using loadtxt like shown below.\n",
    "\n",
    "    Variable Names\n",
    "    ship_leg (1-5)\n",
    "    speed    (knots)\n",
    "    fuel     (tons/day)\n",
    "    \n",
    "The plot below show clearly that there are two kinds of ship: small ship and a big ship. \n",
    "\n",
    "Source: S.Wang, Q. Meng (2012). \"Sailing Speed Optimization for Container\n",
    "Ships in a Liner Shipping Network,\" "
   ]
  },
  {
   "cell_type": "code",
   "execution_count": 33,
   "metadata": {
    "collapsed": false
   },
   "outputs": [
    {
     "data": {
      "text/plain": [
       "[<matplotlib.lines.Line2D at 0x117640290>]"
      ]
     },
     "execution_count": 33,
     "metadata": {},
     "output_type": "execute_result"
    },
    {
     "data": {
      "image/png": "[encoded data removed]",
      "text/plain": [
       "<matplotlib.figure.Figure at 0x116a61ed0>"
      ]
     },
     "metadata": {},
     "output_type": "display_data"
    }
   ],
   "source": [
    "ship = np.loadtxt(open(\"ship_speed_fuel.csv\",\"rb\"), delimiter=',', skiprows=1)\n",
    "#try to figure out what exactly is in the ship variable\n",
    "#see ship_speed_fuel.text for the meaning of each column\n",
    "shipno = ship[:, 0]\n",
    "speed = ship[:, 1]\n",
    "fuel = ship[:, 2]\n",
    "plt.plot(speed, fuel,'.')"
   ]
  },
  {
   "cell_type": "markdown",
   "metadata": {},
   "source": [
    "5.1) Physics dictates that the bigger the ship the more power it needs to maintain a fixed speed. Figure out which ship 1,2,3,4,5 is a big ship and which ship is a small ship."
   ]
  },
  {
   "cell_type": "code",
   "execution_count": null,
   "metadata": {
    "collapsed": false
   },
   "outputs": [],
   "source": []
  },
  {
   "cell_type": "code",
   "execution_count": 17,
   "metadata": {
    "collapsed": false
   },
   "outputs": [
    {
     "name": "stdout",
     "output_type": "stream",
     "text": [
      "large: [4, 5] small: [1, 2, 3]\n"
     ]
    }
   ],
   "source": [
    "avg = sum(fuel)/sum(speed)\n",
    "small = []\n",
    "large = []\n",
    "\n",
    "d_s = {1:0,2:0,3:0,4:0,5:0}\n",
    "d_l = {1:0,2:0,3:0,4:0,5:0}\n",
    "for i,j,k in zip(speed,fuel,shipno):\n",
    "    if (j/i > avg):\n",
    "        d_l[k] +=1\n",
    "    else:\n",
    "        d_s[k] +=1\n",
    "l = []\n",
    "s = []\n",
    "for i in range(1,6):\n",
    "    if d_s[i] > d_l[i]:\n",
    "        s.append(i)\n",
    "    else:\n",
    "        l.append(i)\n",
    "print \"large:\",l, \"small:\",s\n",
    "\n",
    "\n"
   ]
  },
  {
   "cell_type": "code",
   "execution_count": 18,
   "metadata": {
    "collapsed": false
   },
   "outputs": [
    {
     "data": {
      "text/plain": [
       "<matplotlib.legend.Legend at 0x116732350>"
      ]
     },
     "execution_count": 18,
     "metadata": {},
     "output_type": "execute_result"
    },
    {
     "data": {
      "image/png": "[encoded data removed]",
      "text/plain": [
       "<matplotlib.figure.Figure at 0x116678e10>"
      ]
     },
     "metadata": {},
     "output_type": "display_data"
    }
   ],
   "source": [
    "plt.plot(speed[:20],fuel[:20],\".\",label=\"s1\")\n",
    "plt.plot(speed[20:40],fuel[20:40],\".\",label=\"s2\")\n",
    "plt.plot(speed[40:60],fuel[40:60],\".\",label=\"s3\")\n",
    "plt.plot(speed[60:80],fuel[60:80],\".\",label=\"s4\")\n",
    "plt.plot(speed[80:100],fuel[80:100],\".\",label=\"s5\")\n",
    "plt.grid(True)\n",
    "plt.legend()"
   ]
  },
  {
   "cell_type": "markdown",
   "metadata": {},
   "source": [
    "5.2) The ship fuel consumption,$c$, for a given speed, $v$ can be modeled with\n",
    "\n",
    "$$c = a v^b$$\n",
    "\n",
    "where $a$ and $b$ are parameter you need to find for best fit.\n",
    "\n",
    "This relation, is however not linear. It nees some manipulation to make it linear. We can take $\\ln$ on both side and obtain\n",
    "\n",
    "$$\\ln c = b \\ln v + \\ln a$$\n",
    "\n",
    "which is a linear relation. Your job for this one is to find $a$ and $b$ for big ship and small ship. Plot to verify. (You should have two set of parameters one for big ship and one for small ship)."
   ]
  },
  {
   "cell_type": "code",
   "execution_count": 35,
   "metadata": {
    "collapsed": false
   },
   "outputs": [
    {
     "name": "stdout",
     "output_type": "stream",
     "text": [
      "3.10819852283 0.00761197012335\n"
     ]
    },
    {
     "data": {
      "text/plain": [
       "<matplotlib.legend.Legend at 0x1178fcb50>"
      ]
     },
     "execution_count": 35,
     "metadata": {},
     "output_type": "execute_result"
    },
    {
     "data": {
      "image/png": "[encoded data removed]",
      "text/plain": [
       "<matplotlib.figure.Figure at 0x11703d710>"
      ]
     },
     "metadata": {},
     "output_type": "display_data"
    }
   ],
   "source": [
    "\n",
    "def f(x, a, b):\n",
    "    return b*x +a\n",
    "\n",
    "def f2(x,a,b):\n",
    "    return a*x**b\n",
    "\n",
    "#log the data\n",
    "small_x = np.log(speed[0:60])\n",
    "small_y= np.log(fuel[0:60])\n",
    "n = float(len(small_x))\n",
    "A = [[np.sum(small_x**2),np.sum(small_x)],\n",
    "     [np.sum(small_x),n]]\n",
    "B = [np.sum(small_x*small_y),np.sum(small_y)]\n",
    "\n",
    "#solve for mat\n",
    "b,a= np.linalg.solve(A,B)\n",
    "\n",
    "a = np.exp(a)\n",
    "print b,a\n",
    "#make line\n",
    "xs = np.linspace(15,23,1000)\n",
    "plt.plot(xs,[f2(x,a,b) for x in xs])\n",
    "\n",
    "plt.plot(speed[:20],fuel[:20],\".\",label=\"s1\")\n",
    "plt.plot(speed[20:40],fuel[20:40],\".\",label=\"s2\")\n",
    "plt.plot(speed[40:60],fuel[40:60],\".\",label=\"s3\")\n",
    "plt.plot(speed[60:80],fuel[60:80],\".\",label=\"s4\")\n",
    "plt.plot(speed[80:100],fuel[80:100],\".\",label=\"s5\")\n",
    "plt.grid(True)\n",
    "plt.legend()\n",
    "\n",
    "\n",
    "\n"
   ]
  },
  {
   "cell_type": "code",
   "execution_count": 43,
   "metadata": {
    "collapsed": false
   },
   "outputs": [
    {
     "name": "stdout",
     "output_type": "stream",
     "text": [
      "s: 2.89886912077 -3.83671432123 l: 18.153604223 -3.83671432123\n"
     ]
    },
    {
     "data": {
      "image/png": "[encoded data removed]",
      "text/plain": [
       "<matplotlib.figure.Figure at 0x117fb6910>"
      ]
     },
     "metadata": {},
     "output_type": "display_data"
    }
   ],
   "source": [
    "\n",
    "\n",
    "\n",
    "small_x = np.log(speed[60:])\n",
    "small_y= np.log(fuel[60:])\n",
    "n = float(len(small_x))\n",
    "A = [[np.sum(small_x**2),np.sum(small_x)],\n",
    "     [np.sum(small_x),n]]\n",
    "B = [np.sum(small_x*small_y),np.sum(small_y)]\n",
    "b,a = np.linalg.solve(A,B)\n",
    "\n",
    "\n",
    "plt.plot(xs,[f2(x,a, np.exp(b)) for x in xs])\n",
    "\n",
    "\n"
   ]
  },
  {
   "cell_type": "markdown",
   "metadata": {},
   "source": [
    "5.3) (Optional, for fun only.) Suppose that he small ship can carry 1000 tons of good while big ship can carry 2000 tons of good. The cost of ship fuel(bunker) is about 250 Dollar per metric tons. Company normally charge about 0.10 Dollar per ton of good per mile travel.\n",
    "\n",
    "The faster your ship goes the more trip you can make the more revenue you can get. Yet, at the same time the trip will cost you more cost on fuel.\n",
    "\n",
    "Your job is to figure out what speed you need to run the ship at for maximum profit and which ship is better for you."
   ]
  },
  {
   "cell_type": "code",
   "execution_count": null,
   "metadata": {
    "collapsed": true
   },
   "outputs": [],
   "source": []
  },
  {
   "cell_type": "code",
   "execution_count": null,
   "metadata": {
    "collapsed": true
   },
   "outputs": [],
   "source": []
  },
  {
   "cell_type": "code",
   "execution_count": null,
   "metadata": {
    "collapsed": true
   },
   "outputs": [],
   "source": []
  },
  {
   "cell_type": "code",
   "execution_count": null,
   "metadata": {
    "collapsed": true
   },
   "outputs": [],
   "source": []
  }
 ],
 "metadata": {
  "kernelspec": {
   "display_name": "Python 2",
   "language": "python",
   "name": "python2"
  },
  "language_info": {
   "codemirror_mode": {
    "name": "ipython",
    "version": 2
   },
   "file_extension": ".py",
   "mimetype": "text/x-python",
   "name": "python",
   "nbconvert_exporter": "python",
   "pygments_lexer": "ipython2",
   "version": "2.7.13"
  }
 },
 "nbformat": 4,
 "nbformat_minor": 0
}
