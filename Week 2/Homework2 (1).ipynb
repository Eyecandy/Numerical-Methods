{
 "cells": [
  {
   "cell_type": "code",
   "execution_count": 1,
   "metadata": {
    "collapsed": true
   },
   "outputs": [],
   "source": [
    "%matplotlib inline\n",
    "import math\n",
    "import numpy as np\n",
    "from matplotlib import pyplot as plt"
   ]
  },
  {
   "cell_type": "markdown",
   "metadata": {},
   "source": [
    "# Homework"
   ]
  },
  {
   "cell_type": "markdown",
   "metadata": {},
   "source": [
    "0) Finish the implementation of false positon method. Use it to find the solution for $\\sin(x) + 1 = x$ do it 20 times."
   ]
  },
  {
   "cell_type": "code",
   "execution_count": 2,
   "metadata": {
    "collapsed": false
   },
   "outputs": [
    {
     "name": "stdout",
     "output_type": "stream",
     "text": [
      "1.93456321075\n"
     ]
    },
    {
     "data": {
      "text/plain": [
       "[<matplotlib.lines.Line2D at 0x11549c050>]"
      ]
     },
     "execution_count": 2,
     "metadata": {},
     "output_type": "execute_result"
    },
    {
     "data": {
      "image/png": "[encoded data removed]",
      "text/plain": [
       "<matplotlib.figure.Figure at 0x11519b9d0>"
      ]
     },
     "metadata": {},
     "output_type": "display_data"
    }
   ],
   "source": [
    "def f(x):\n",
    "    return math.sin(x) - x + 1\n",
    "\n",
    "def false_position(left,right,n):\n",
    "    for i in range(n):\n",
    "        x_int = (left*f(right) - right*f(left))/(f(right)-f(left))\n",
    "        if f(x_int) < 0:\n",
    "            left = x_int\n",
    "        else:\n",
    "            right = x_int\n",
    "    return x_int\n",
    "\n",
    "print false_position(0,2,20)\n",
    "xs = np.linspace(-math.pi,math.pi,1000)\n",
    "ys = [f(x) for x in xs]\n",
    "plt.plot(xs,ys)"
   ]
  },
  {
   "cell_type": "markdown",
   "metadata": {},
   "source": [
    "1) Give me the solution to $x = e^{-x}$ that is $10^{-6}$ using bisection method.\n",
    "\n",
    "Pick the initial bound from the following and explain why you can't pick the other one.\n",
    "Bound A: (-1,0), Bound B (0,1)"
   ]
  },
  {
   "cell_type": "code",
   "execution_count": 3,
   "metadata": {
    "collapsed": false
   },
   "outputs": [
    {
     "name": "stdout",
     "output_type": "stream",
     "text": [
      "0.567143440247\n",
      "the x intercept is between 0 and 1, so B\n"
     ]
    },
    {
     "data": {
      "image/png": "[encoded data removed]",
      "text/plain": [
       "<matplotlib.figure.Figure at 0x11549ce90>"
      ]
     },
     "metadata": {},
     "output_type": "display_data"
    }
   ],
   "source": [
    "xs = np.linspace(-5, 5, 100)\n",
    "ys = np.e**(-xs) - xs\n",
    "plt.axhline(0, c='r')\n",
    "plt.xlim(-1, 1)\n",
    "plt.ylim(-5, 5)\n",
    "plt.plot(xs,ys)\n",
    "\n",
    "def f(x):\n",
    "    return np.e**(-x) - x\n",
    "def findXintercept(fm, to, limit = 1e-6):\n",
    "    guess = (fm+to)/2.\n",
    "    #check if x-intercept is close to 0\n",
    "    if (abs(f(guess)) <= limit):\n",
    "        return guess\n",
    "    else:\n",
    "        if (f(guess) <= 0 ):\n",
    "            return findXintercept(fm, guess) \n",
    "        else: \n",
    "            return findXintercept(guess, to)\n",
    "\n",
    "ans = findXintercept(0, 1,1e-6)\n",
    "plt.axvline(ans, c='pink')\n",
    "print ans\n",
    "\n",
    "print \"the x intercept is between 0 and 1, so B\""
   ]
  },
  {
   "cell_type": "markdown",
   "metadata": {},
   "source": [
    "2) Find all value of $x \\in [0,1]$ such that $f(x)=0$ for\n",
    "\n",
    "$f(x) = -0.000216747 + 0.0072868 x - 0.0977383 x^2 + 0.664685 x^3 - \n",
    " 2.40773 x^4 + 4.46766 x^5 - 3.7091 x^6 + x^7$\n",
    " \n",
    "Make sure your answers are at most $10^{-6}$ away from the real solution."
   ]
  },
  {
   "cell_type": "code",
   "execution_count": 4,
   "metadata": {
    "collapsed": false
   },
   "outputs": [],
   "source": [
    "def f(x):\n",
    "    return -0.000216747 + 0.0072868*x - 0.0977383*x**2 + 0.664685*x**3 - \\\n",
    "            2.40773*x**4 + 4.46766*x**5 - 3.7091*x**6 + x**7\n"
   ]
  },
  {
   "cell_type": "code",
   "execution_count": 5,
   "metadata": {
    "collapsed": false
   },
   "outputs": [
    {
     "data": {
      "text/plain": [
       "(-1e-05, 1e-05)"
      ]
     },
     "execution_count": 5,
     "metadata": {},
     "output_type": "execute_result"
    },
    {
     "data": {
      "image/png": "[encoded data removed]",
      "text/plain": [
       "<matplotlib.figure.Figure at 0x11518bd10>"
      ]
     },
     "metadata": {},
     "output_type": "display_data"
    }
   ],
   "source": [
    "plt.plot(xs, f(xs))\n",
    "plt.axhline(0, c = 'r')\n",
    "plt.xlim(0, 1)\n",
    "plt.ylim(-1e-5, 1e-5)\n"
   ]
  },
  {
   "cell_type": "code",
   "execution_count": 30,
   "metadata": {
    "collapsed": false
   },
   "outputs": [
    {
     "name": "stdout",
     "output_type": "stream",
     "text": [
      "DOING IT BY SCANNING:\n",
      "0.122622622623\n",
      "0.21971971972\n",
      "0.332832832833\n",
      "0.78541041041\n",
      "DOING IT BY GRAPHING and Bisection:\n",
      "0.065\n",
      "0.18\n",
      "0.375\n",
      "0.65\n",
      "[0.065, 0.18, 0.375, 0.65]\n"
     ]
    },
    {
     "data": {
      "text/plain": [
       "[<matplotlib.lines.Line2D at 0x115d4ba90>]"
      ]
     },
     "execution_count": 30,
     "metadata": {},
     "output_type": "execute_result"
    },
    {
     "data": {
      "image/png": "[encoded data removed]",
      "text/plain": [
       "<matplotlib.figure.Figure at 0x1157d8650>"
      ]
     },
     "metadata": {},
     "output_type": "display_data"
    }
   ],
   "source": [
    "def f(x):\n",
    "    return -0.000216747 + 0.0072868*x - 0.0977383*x**2 + 0.664685*x**3 - \\\n",
    "            2.40773*x**4 + 4.46766*x**5 - 3.7091*x**6 + x**7\n",
    "def bisection(f,fm,to,n):\n",
    "    fm = float(fm)\n",
    "    to = float(to)\n",
    "    c = (fm+to)/2 \n",
    "    \n",
    "    if (fm-to < 1e-6):\n",
    "        return c\n",
    "    \n",
    "    if f(fm)*f(c) < 0:\n",
    "        bisection(f,fm,c,n)\n",
    "    else:\n",
    "        bisection(f,c,to,n)\n",
    "    \n",
    "print \"DOING IT BY SCANNING:\"   \n",
    "def scan(f,xs):\n",
    "    for i in range(len(xs)-2):\n",
    "        if (f(xs[i]) > 0 and f(xs[i+1]) < 0 ) or ((f(xs[i]) < 0 and f(xs[i+1]) > 0) ):\n",
    "            print findXintercept(xs[i],xs[i+1])\n",
    "xs = np.linspace(0,1,1000)\n",
    "scan(f,xs)\n",
    "\n",
    "       \n",
    "print \"DOING IT BY GRAPHING and Bisection:\"\n",
    "root1 = bisection(f,0, 0.13,17)\n",
    "root2= bisection(f,0.13, 0.23,17)\n",
    "root3 = bisection(f,0.3, 0.45,17)\n",
    "root4 = bisection(f,0.5, 0.8,17)\n",
    "\n",
    "print (root1)\n",
    "print (root2)\n",
    "print (root3)\n",
    "print (root4)\n",
    "\n",
    "roots = [root1,root2,root3,root4]\n",
    "print roots\n",
    "ms = np.linspace(0,1,300)\n",
    "ns = [f(i) for i in ms]\n",
    "plt.axvline(root1,color=\"red\")\n",
    "plt.axvline(root2,color=\"red\")\n",
    "plt.axvline(root3,color=\"red\")\n",
    "plt.axvline(root4,color=\"red\")\n",
    "plt.grid(True)\n",
    "plt.axhline(0,color=\"green\",lw=0.5)\n",
    "plt.plot(ms,ns)"
   ]
  },
  {
   "cell_type": "code",
   "execution_count": null,
   "metadata": {
    "collapsed": false
   },
   "outputs": [],
   "source": []
  },
  {
   "cell_type": "markdown",
   "metadata": {},
   "source": [
    "2.1) Find all the local minima and maxima of the above function. How do you figure out whether it is a local maximum or local minimum"
   ]
  },
  {
   "cell_type": "code",
   "execution_count": 31,
   "metadata": {
    "collapsed": false
   },
   "outputs": [
    {
     "data": {
      "text/plain": [
       "(-1e-07, 1e-07)"
      ]
     },
     "execution_count": 31,
     "metadata": {},
     "output_type": "execute_result"
    },
    {
     "data": {
      "image/png": "[encoded data removed]",
      "text/plain": [
       "<matplotlib.figure.Figure at 0x115814090>"
      ]
     },
     "metadata": {},
     "output_type": "display_data"
    }
   ],
   "source": [
    "def f(x):\n",
    "    return -0.000216747 + 0.0072868*x - 0.0977383*x**2 + 0.664685*x**3 - \\\n",
    "            2.40773*x**4 + 4.46766*x**5 - 3.7091*x**6 + x**7\n",
    "def df1(x):\n",
    "    return  0.0072868 - 2*0.0977383*x + 3*0.664685*x**2 - \\\n",
    "            4*2.40773*x**3 + 5*4.46766*x**4 - 6*3.7091*x**5 + 7*x**6\n",
    "def df2(x):\n",
    "    return -0.195477 + 3.9812*x - 28.8928*(x**2) + 89.3532*(x**3) - 111.273*x**4 + 42*x**5\n",
    "    \n",
    "plt.plot(xs, df1(xs))\n",
    "plt.axhline(0, c = 'r')\n",
    "plt.xlim(0, 1)\n",
    "plt.ylim(-1e-7, 1e-7)"
   ]
  },
  {
   "cell_type": "code",
   "execution_count": 37,
   "metadata": {
    "collapsed": false
   },
   "outputs": [
    {
     "name": "stdout",
     "output_type": "stream",
     "text": [
      "DOING IT BY LOOKING AT GRAPH\n",
      "[0.191357421875, 0.29709106445312494, 0.6817806243896483]\n"
     ]
    }
   ],
   "source": [
    "def bisection(f,fm,to):\n",
    "    fm = float(fm)\n",
    "    to = float(to)\n",
    "    c = (fm+to)/2 \n",
    "    \n",
    "    if (fm-to < 1e-7):\n",
    "        return c\n",
    "    \n",
    "    if f(fm)*f(c) < 0:\n",
    "        bisection(f,fm,c,n)\n",
    "    else:\n",
    "        bisection(f,c,to,n)\n",
    "        \n",
    "def findInt_wrapper(cal, lim):\n",
    "    def findInt(fm, to):\n",
    "        mid = (fm + to)/2.\n",
    "        while (not np.abs(cal(mid)) <= lim):\n",
    "            if cal(fm) * cal(mid) < 0:\n",
    "                to = mid\n",
    "            else:\n",
    "                fm = mid\n",
    "            mid = (fm + to)/2.\n",
    "            if (fm == to): return None\n",
    "        return mid\n",
    "    return findInt\n",
    "findInt = findInt_wrapper(df1, 1e-7)        \n",
    "        \n",
    "\n",
    "print \"DOING IT BY LOOKING AT GRAPH\"\n",
    "x2 = findInt(0.1, 0.2)\n",
    "x3 = findInt(0.23, 0.4)\n",
    "x4 = findInt(0.6, 0.8)\n",
    "\n",
    "x_ints = [x2, x3, x4]\n",
    "print x_ints\n",
    "\n",
    "\n"
   ]
  },
  {
   "cell_type": "markdown",
   "metadata": {},
   "source": [
    "2.2) What is the `global maximum` and `global minimum` of the function above within the range $x\\in[0,1]$"
   ]
  },
  {
   "cell_type": "code",
   "execution_count": 38,
   "metadata": {
    "collapsed": false
   },
   "outputs": [
    {
     "name": "stdout",
     "output_type": "stream",
     "text": [
      "0.191357421875 LOCAL MAXIMA\n",
      "0.297091064453 LOCAL MINIMA\n",
      "0.68178062439 LOCAL MAXIMA\n"
     ]
    }
   ],
   "source": [
    "def check_m(second_derivative,root):\n",
    "    if second_derivative(root) < 0:\n",
    "        print root, \"LOCAL MAXIMA\"\n",
    "    else:\n",
    "        print root, \"LOCAL MINIMA\"\n",
    "\n",
    "check_m(df2,x2)\n",
    "check_m(df2,x3)\n",
    "check_m(df2,x4)"
   ]
  },
  {
   "cell_type": "markdown",
   "metadata": {},
   "source": [
    "3) In quantum physics, when finding a bound state for a finite potential well one would end up with the following equation(Yes E is negative):\n",
    "\n",
    "$$\n",
    "\\sqrt{\\frac{-E}{E+V_0}} = \\tan \\sqrt{2m \\frac{E+V_0}{\\hbar^2} a}\n",
    "$$\n",
    "\n",
    "The goal is to find all Energy($E$) that satisfy this equation.\n",
    "For simplicity, let\n",
    "- $V_0 = 1$\n",
    "- $m = 1$\n",
    "- $a = 1$\n",
    "- $\\hbar = 1$(Yes this is called natural unit)\n",
    "\n",
    "$$\n",
    "    \\sqrt{\\frac{-E}{E+1}} = \\tan \\sqrt{2(E+1)}\n",
    "$$\n",
    "\n",
    "Find the value for $E\\in (-1.0, 0)$ which satisfy the equation above). Make sure you accuracy is $<\\pm10^{-4}$\n"
   ]
  },
  {
   "cell_type": "code",
   "execution_count": null,
   "metadata": {
    "collapsed": true
   },
   "outputs": [],
   "source": []
  },
  {
   "cell_type": "code",
   "execution_count": 39,
   "metadata": {
    "collapsed": false
   },
   "outputs": [
    {
     "data": {
      "text/plain": [
       "<matplotlib.legend.Legend at 0x115cd2790>"
      ]
     },
     "execution_count": 39,
     "metadata": {},
     "output_type": "execute_result"
    },
    {
     "data": {
      "image/png": "[encoded data removed]",
      "text/plain": [
       "<matplotlib.figure.Figure at 0x115781110>"
      ]
     },
     "metadata": {},
     "output_type": "display_data"
    }
   ],
   "source": [
    "def f(x):\n",
    "    return math.sqrt(-x/(x+1))\n",
    "def g(x):\n",
    "    return math.tan(math.sqrt(2*(x+1)))\n",
    "def cal(x):\n",
    "    return f(x) - g(x)\n",
    "\n",
    "xs = np.linspace(-0.999,-0.001,10**4)\n",
    "ys = [f(x) for x in xs]\n",
    "gs = [g(x) for x in xs]\n",
    "\n",
    "plt.plot(xs,ys,label = \"f\")\n",
    "plt.plot(xs,gs,label = \"g\")\n",
    "plt.ylim(1.1,1.3)\n",
    "plt.xlim(-0.61,-0.59)\n",
    "plt.legend()\n",
    "\n"
   ]
  },
  {
   "cell_type": "code",
   "execution_count": 42,
   "metadata": {
    "collapsed": false
   },
   "outputs": [
    {
     "data": {
      "text/plain": [
       "-0.6039062499999999"
      ]
     },
     "execution_count": 42,
     "metadata": {},
     "output_type": "execute_result"
    }
   ],
   "source": [
    "def bisection(f,fm, to):\n",
    "    guess = (fm+to)/2.\n",
    "    if (abs(f(guess)) <= 1e-4):\n",
    "        return guess\n",
    "    else:\n",
    "        if (f(guess) <= 0 and f(fm)): #>= 0or  f(guess) <= 0 and f(fm) >= 0):\n",
    "            return bisection(f,fm, guess) \n",
    "        else: \n",
    "            return bisection(f,guess,to)\n",
    "bisection(cal,-0.9,-0.1)\n",
    "\n",
    "\n"
   ]
  },
  {
   "cell_type": "markdown",
   "metadata": {},
   "source": [
    "4) Ply quit programming and decide to be a Apple(fruit) shop owner. He bought 1000 apples everyday and try to sell it. The probability $k$ customer want Ply's apple(one each) is given by Poisson distribution:\n",
    "\n",
    "$$\n",
    "    P(k; \\lambda) = \\frac{\\lambda^k \\exp(-\\lambda)}{k!}\n",
    "$$\n",
    "\n",
    "Where $\\lambda$ is an parameter that represent the mean of number of people that want Ply's apple each day.\n",
    "\n",
    "After selling apples for 2000 days Ply found that his 1000 apples a day are sold out 600 days out of 2000 days.\n",
    "\n",
    "The goal for this problem is to figure out how he should change the number of apples he bought in a day.\n",
    "\n",
    "- In case you are curious https://en.wikipedia.org/wiki/Poisson_distribution. The true distribution of this selling apple process should be binomial distribution but with large enough customer and low enough probability of an individual buying an apple "
   ]
  },
  {
   "cell_type": "markdown",
   "metadata": {
    "collapsed": true
   },
   "source": [
    "4.1) You may find that if you try to code poisson distribution directly. It will not work with large number.\n",
    "$$\n",
    "    P(k; \\lambda) = \\frac{\\lambda^k \\exp(-\\lambda)}{k!}\n",
    "$$\n",
    "\n",
    "Explain briefly why python complains"
   ]
  },
  {
   "cell_type": "code",
   "execution_count": 43,
   "metadata": {
    "collapsed": true
   },
   "outputs": [],
   "source": [
    "import math\n",
    "def bad_poisson(lmd, k):\n",
    "    return pow(lmd,k)*math.exp(-lmd)/math.factorial(k)\n",
    "# bad_poisson(1000,1000) 1000 to the power of a 1000 is too large for python to handle."
   ]
  },
  {
   "cell_type": "markdown",
   "metadata": {},
   "source": [
    "4.2) A very useful trick to avoid this problem is to take log and exponentiate. That is\n",
    "\n",
    "$$\n",
    "    P(k; \\lambda) = \\exp\\left( \\ln \\left[ \\frac{\\lambda^k \\exp(-\\lambda)}{k!} \\right] \\right)\n",
    "$$\n",
    "\n",
    "First, show that\n",
    "$$\n",
    "    \\ln(P(k; \\lambda)) = (\\ldots \\ln(\\ldots)-\\ldots)-\\ln(k!)\n",
    "$$\n",
    "\n"
   ]
  },
  {
   "cell_type": "markdown",
   "metadata": {
    "collapsed": true
   },
   "source": [
    "$$ ln(P(k;\\lambda)) = ln (\\frac{\\lambda^k \\exp(-\\lambda)}{k!})\\\\\n",
    "                = ln (\\lambda^k \\exp(-\\lambda)) - ln(k!)\\\\\n",
    "                = ln (\\lambda^k) + ln (\\exp(-\\lambda)) - ln(k!) \\\\\n",
    "                = kln(\\lambda) - \\lambda - ln(k!)\n",
    "$$"
   ]
  },
  {
   "cell_type": "markdown",
   "metadata": {},
   "source": [
    "4.3) $\\ln(k!)$ shows up everywhere in math. So most math library have `lgamma` function to compute this very fast.\n",
    "For example,\n",
    "\n",
    "`math.lgamma(5) == math.log(math.factorial(4))`\n",
    "\n",
    "Your job for this problem is to implement $P(k; \\lambda)$ using log-exp trick.\n",
    "\n",
    "If you do it right, $P(k=1000; \\mu=1000) \\approx 0.0126146$"
   ]
  },
  {
   "cell_type": "code",
   "execution_count": 44,
   "metadata": {
    "collapsed": false
   },
   "outputs": [],
   "source": [
    "\n",
    "def P(k,lmd):\n",
    "    return math.exp(k*math.log(lmd) - lmd - math.lgamma((k+1)))\n",
    "\n",
    "\n"
   ]
  },
  {
   "cell_type": "code",
   "execution_count": null,
   "metadata": {
    "collapsed": true
   },
   "outputs": [],
   "source": []
  },
  {
   "cell_type": "code",
   "execution_count": 45,
   "metadata": {
    "collapsed": false
   },
   "outputs": [
    {
     "name": "stdout",
     "output_type": "stream",
     "text": [
      "0.0126146113487\n"
     ]
    }
   ],
   "source": [
    "k = 1000\n",
    "u = 1000\n",
    "\n",
    "print P(1000,1000)"
   ]
  },
  {
   "cell_type": "markdown",
   "metadata": {},
   "source": [
    "4.4) Now here is the fun part. Suppose that $\\lambda = 987.6$(this is not true). Find the probability that Ply will sell all his 1000 apples. (Remember if 2000 people want Ply's apple, he his apple will also be sold out). \n",
    "\n",
    "And No, summing up to infinity is not practical."
   ]
  },
  {
   "cell_type": "code",
   "execution_count": 46,
   "metadata": {
    "collapsed": false
   },
   "outputs": [
    {
     "data": {
      "text/plain": [
       "0.3507846581670552"
      ]
     },
     "execution_count": 46,
     "metadata": {},
     "output_type": "execute_result"
    }
   ],
   "source": [
    "def findExpected(nApples,lmd):\n",
    "    summ = 0\n",
    "    for i in range(0,nApples):\n",
    "        summ += P(i,lmd)\n",
    "    return 1 - summ  #1 - prob that he will not sell all his apples\n",
    "\n",
    "findExpected(1000,987.6)\n",
    "\n",
    "\n",
    "        "
   ]
  },
  {
   "cell_type": "markdown",
   "metadata": {},
   "source": [
    "4.5) Recall the information that\n",
    "\n",
    "After selling apples for 2000 days Ply found that his 1000 apples a day are sold out 600 days out of 2000 days.\n",
    "\n",
    "Find the value for $\\lambda$ to a decent accuracy($<\\pm 0.1$)"
   ]
  },
  {
   "cell_type": "code",
   "execution_count": 47,
   "metadata": {
    "collapsed": false
   },
   "outputs": [
    {
     "data": {
      "text/plain": [
       "983.08308308308312"
      ]
     },
     "execution_count": 47,
     "metadata": {},
     "output_type": "execute_result"
    },
    {
     "data": {
      "image/png": "[encoded data removed]",
      "text/plain": [
       "<matplotlib.figure.Figure at 0x11590b4d0>"
      ]
     },
     "metadata": {},
     "output_type": "display_data"
    }
   ],
   "source": [
    "ansToPos = 600/float(2000)\n",
    "\n",
    "def findLambda(lmd):\n",
    "    nApples= 1000\n",
    "    summ = 0\n",
    "    for k in range(0,nApples):\n",
    "        summ += P(k,lmd)\n",
    "    return 1 - summ - ansToPos\n",
    "\n",
    "\n",
    "xs = np.linspace(900,1000,1000)\n",
    "ys = [findLambda(x) for x in xs]\n",
    "plt.plot(xs,ys)\n",
    "plt.axhline(0, color='green')\n",
    "\n",
    "def findXintercept():\n",
    "    for i in range(len(ys)):\n",
    "        if ys[i] < 0 and ys[1 + i] > 0:\n",
    "            return xs[i]\n",
    "lmd = findXintercept()\n",
    "lmd"
   ]
  },
  {
   "cell_type": "markdown",
   "metadata": {},
   "source": [
    "4.6) Using $\\lambda$ you found in 4.5).\n",
    "\n",
    "Ply bounght apple for 20 Baht each and he sell it for 50 Baht each. Which means that for each apple he sells he make a profit of 30 baht. But, at the end of each day Ply has to trash all unsold Apples(taking a loss of 20 Baht each).\n",
    "\n",
    "If Ply bought 1000 apples a day, what would be his expected profit(remember expected value from discrete math/stat/quantum?)."
   ]
  },
  {
   "cell_type": "code",
   "execution_count": 48,
   "metadata": {
    "collapsed": false
   },
   "outputs": [
    {
     "data": {
      "text/plain": [
       "28861.26588628922"
      ]
     },
     "execution_count": 48,
     "metadata": {},
     "output_type": "execute_result"
    }
   ],
   "source": [
    "\n",
    "\n",
    "def calcProfit(appSold, n):\n",
    "    thrashed = (n-appSold)\n",
    "    return appSold*30 - thrashed*20\n",
    "\n",
    "#The summ is up to a thousand in expected value Prob(i, givenLmdb)*profit(i)\n",
    "#plus the probabilty that more than or equal to a 1000 people needs it, however we calculate profit to of 1000\n",
    "#beacause u can not sell more than the apples bought which a 1000\n",
    "def expected(n, lmd):\n",
    "    summ= 0\n",
    "    for i in range(int(n)):\n",
    "        summ += P(i,lmd)*calcProfit(i, n) #i apples sold  * the profit if i apples are sold\n",
    "    return summ + findExpected(n,lmd)*calcProfit(n, n) #1-1000 apples + the days more than 1000 want to buy apples\n",
    "lmd = findXintercept()\n",
    "expected(1000,lmd)\n",
    "    \n",
    "\n",
    "\n",
    "    \n",
    "    \n",
    "\n",
    "    "
   ]
  },
  {
   "cell_type": "markdown",
   "metadata": {},
   "source": [
    "4.7) Using $\\lambda$ you found in 4.5) Find the number of apple Ply should buy in a day to maximize his expected profit."
   ]
  },
  {
   "cell_type": "code",
   "execution_count": 49,
   "metadata": {
    "collapsed": false
   },
   "outputs": [
    {
     "data": {
      "text/plain": [
       "991"
      ]
     },
     "execution_count": 49,
     "metadata": {},
     "output_type": "execute_result"
    }
   ],
   "source": [
    "ys = [expected(i,lmd) for i in range(2000)]\n",
    "np.argmax(ys)"
   ]
  },
  {
   "cell_type": "code",
   "execution_count": null,
   "metadata": {
    "collapsed": false
   },
   "outputs": [],
   "source": [
    "\n",
    "        \n",
    "    \n",
    "        \n",
    "    "
   ]
  },
  {
   "cell_type": "markdown",
   "metadata": {},
   "source": [
    "5) Full Width at Half Maximum(FWHM). Distribution width is a very important quantity. It tells you how wide a the distribution is. One way to do that is to use a quantity called full-width half max.\n",
    "\n",
    "This is the width of the distribution at half maximum. \n",
    "\n",
    "For example for distribution shown below the maximum is at x=0.0 and y=1.0\n",
    "\n",
    "The maximum of this distribution is 1.0. So we are interested in the width of the distribution when the value of the distribution is 1.0/2=0.5\n",
    "\n",
    "The width of the distribution is shown in black line. In this case it's about 2.35"
   ]
  },
  {
   "cell_type": "code",
   "execution_count": 50,
   "metadata": {
    "collapsed": false
   },
   "outputs": [
    {
     "data": {
      "text/plain": [
       "<matplotlib.text.Text at 0x116393290>"
      ]
     },
     "execution_count": 50,
     "metadata": {},
     "output_type": "execute_result"
    },
    {
     "data": {
      "image/png": "[encoded data removed]",
      "text/plain": [
       "<matplotlib.figure.Figure at 0x11613d2d0>"
      ]
     },
     "metadata": {},
     "output_type": "display_data"
    }
   ],
   "source": [
    "import math\n",
    "def demo(x):\n",
    "    return math.exp(-x**2/2.0)\n",
    "x = np.linspace(-3,3)\n",
    "y = [demo(xx) for xx in x]\n",
    "plt.plot(x,y)\n",
    "plt.axhline(0.5, color='red')\n",
    "\n",
    "plt.axvline(2.355/2,color='red',linestyle='dashed')\n",
    "plt.axvline(-2.355/2,color='red',linestyle='dashed')\n",
    "\n",
    "plt.grid()\n",
    "plt.annotate(\n",
    "    '', xy=(-2.355/2, 0.4), xycoords='data',\n",
    "    xytext=(2.355/2, 0.4), textcoords='data',\n",
    "    arrowprops={'arrowstyle': '<->'})\n",
    "plt.text(0,0.3,'FWHM',horizontalalignment ='center')\n",
    "\n"
   ]
  },
  {
   "cell_type": "markdown",
   "metadata": {},
   "source": [
    "5.1)Find FWHM of the following function. Make sure the bound on error of the FWHM is less than $10^{-4}$."
   ]
  },
  {
   "cell_type": "code",
   "execution_count": 51,
   "metadata": {
    "collapsed": false
   },
   "outputs": [
    {
     "name": "stdout",
     "output_type": "stream",
     "text": [
      "[-0.75507550755075492, 5.4435443544354438, 5.4455445544554451]\n"
     ]
    },
    {
     "data": {
      "text/plain": [
       "<matplotlib.lines.Line2D at 0x116539910>"
      ]
     },
     "execution_count": 51,
     "metadata": {},
     "output_type": "execute_result"
    },
    {
     "data": {
      "image/png": "[encoded data removed]",
      "text/plain": [
       "<matplotlib.figure.Figure at 0x1155922d0>"
      ]
     },
     "metadata": {},
     "output_type": "display_data"
    }
   ],
   "source": [
    "import math\n",
    "def f(x, gamma=3.1):\n",
    "    mu = 2.345\n",
    "    return gamma/((x-mu)**2+gamma**2)\n",
    "\n",
    "x = np.linspace(-10,10,10000)\n",
    "y = [f(xx) for xx in x]\n",
    "plt.plot(x,y)\n",
    "halfMax = max(y)/2.\n",
    "plt.grid()\n",
    "\n",
    "xs = []\n",
    "for i in range(len(y)):\n",
    "    if abs(y[i] - halfMax) <= 1e-4:\n",
    "        xs.append(x[i])\n",
    "width = xs[-1] - abs(xs[0])\n",
    "\n",
    "width\n",
    "\n",
    "\n",
    "\n",
    "print xs\n",
    "plt.axvline(xs[0],color = \"red\")\n",
    "plt.axvline(xs[-1],color = \"red\")\n",
    "plt.axhline(halfMax,color = \"red\")\n"
   ]
  },
  {
   "cell_type": "code",
   "execution_count": 52,
   "metadata": {
    "collapsed": false
   },
   "outputs": [
    {
     "name": "stdout",
     "output_type": "stream",
     "text": [
      "left:  0.31689453125\n",
      "right:  4.375\n",
      "size of gap:  4.05810546875\n"
     ]
    },
    {
     "data": {
      "image/png": "[encoded data removed]",
      "text/plain": [
       "<matplotlib.figure.Figure at 0x1164e9710>"
      ]
     },
     "metadata": {},
     "output_type": "display_data"
    }
   ],
   "source": [
    "import math\n",
    "def f(x, gamma=3.1):\n",
    "    mu = 2.345\n",
    "    return gamma/((x-mu)**2+gamma**2)\n",
    "\n",
    "x = np.linspace(-10,10,10000)\n",
    "y = [f(xx) for xx in x]\n",
    "plt.plot(x,y)\n",
    "halfMax = max(y)* (0.7)\n",
    "plt.grid()\n",
    "\n",
    "def calc(x):\n",
    "    return f(x) - halfMax\n",
    "def bisection(f,fm,to,lim):\n",
    "    m = (fm+to)/2.\n",
    "    check = math.fabs(f(m) - halfMax )\n",
    "    if ( check  <= lim ):\n",
    "        return m\n",
    "    else:\n",
    "        if ( calc(fm) * calc(m) > 0):\n",
    "            return bisection(f,m,to,lim)\n",
    "        else:\n",
    "            return bisection(f,fm,m,lim)\n",
    "\n",
    "left = bisection(f,-7,2,1e-4)\n",
    "right = bisection(f,4,6,1e-4)\n",
    "plt.axvline(left,color = \"red\")\n",
    "plt.axvline(right,color = \"red\")\n",
    "plt.axhline(halfMax,color = \"red\")\n",
    "print \"left: \" , left\n",
    "print \"right: \" ,right\n",
    "print \"size of gap: \", right-left\n"
   ]
  },
  {
   "cell_type": "markdown",
   "metadata": {},
   "source": [
    "5.2) Plot FWHM(y-axis) as a function of $\\gamma$(gamma) from $\\gamma=0.5\\ldots 3$. Make sure you have at least 30 points."
   ]
  },
  {
   "cell_type": "code",
   "execution_count": 53,
   "metadata": {
    "collapsed": false
   },
   "outputs": [
    {
     "name": "stdout",
     "output_type": "stream",
     "text": [
      "0.108165114047\n"
     ]
    },
    {
     "data": {
      "text/plain": [
       "[<matplotlib.lines.Line2D at 0x11673bb50>]"
      ]
     },
     "execution_count": 53,
     "metadata": {},
     "output_type": "execute_result"
    },
    {
     "data": {
      "image/png": "[encoded data removed]",
      "text/plain": [
       "<matplotlib.figure.Figure at 0x1157154d0>"
      ]
     },
     "metadata": {},
     "output_type": "display_data"
    }
   ],
   "source": [
    "\n",
    "print(f(1.0, gamma=0.2)) # you may find this useful\n",
    "gs= np.linspace(0.5,3,30)\n",
    "gys = [f(1.0,gamma) for gamma in gs]\n",
    "plt.plot(gs,gys)\n"
   ]
  },
  {
   "cell_type": "markdown",
   "metadata": {
    "collapsed": true
   },
   "source": [
    "5.3) (Optional) Prove the relation you found in 5.2)"
   ]
  },
  {
   "cell_type": "code",
   "execution_count": null,
   "metadata": {
    "collapsed": true
   },
   "outputs": [],
   "source": []
  },
  {
   "cell_type": "code",
   "execution_count": null,
   "metadata": {
    "collapsed": true
   },
   "outputs": [],
   "source": []
  },
  {
   "cell_type": "code",
   "execution_count": null,
   "metadata": {
    "collapsed": true
   },
   "outputs": [],
   "source": []
  },
  {
   "cell_type": "code",
   "execution_count": null,
   "metadata": {
    "collapsed": true
   },
   "outputs": [],
   "source": []
  }
 ],
 "metadata": {
  "kernelspec": {
   "display_name": "Python 2",
   "language": "python",
   "name": "python2"
  },
  "language_info": {
   "codemirror_mode": {
    "name": "ipython",
    "version": 2
   },
   "file_extension": ".py",
   "mimetype": "text/x-python",
   "name": "python",
   "nbconvert_exporter": "python",
   "pygments_lexer": "ipython2",
   "version": "2.7.13"
  },
  "toc": {
   "colors": {
    "hover_highlight": "#DAA520",
    "running_highlight": "#FF0000",
    "selected_highlight": "#FFD700"
   },
   "moveMenuLeft": true,
   "nav_menu": {
    "height": "30px",
    "width": "252px"
   },
   "navigate_menu": true,
   "number_sections": false,
   "sideBar": true,
   "threshold": 4,
   "toc_cell": false,
   "toc_section_display": "block",
   "toc_window_display": false
  }
 },
 "nbformat": 4,
 "nbformat_minor": 1
}
