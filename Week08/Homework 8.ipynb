{
 "cells": [
  {
   "cell_type": "code",
   "execution_count": 1,
   "metadata": {
    "collapsed": false
   },
   "outputs": [],
   "source": [
    "%matplotlib inline\n",
    "import numpy as np\n",
    "from matplotlib import pyplot as plt\n",
    "import math"
   ]
  },
  {
   "cell_type": "markdown",
   "metadata": {},
   "source": [
    "##Random Methods"
   ]
  },
  {
   "cell_type": "markdown",
   "metadata": {},
   "source": [
    "#### 1) Psuedo random number generator.\n",
    "\n",
    "Write a random number generator that gives random integer from 1 to 5. Make sure the cycle length is greater than 30."
   ]
  },
  {
   "cell_type": "code",
   "execution_count": 2,
   "metadata": {
    "collapsed": false
   },
   "outputs": [
    {
     "name": "stdout",
     "output_type": "stream",
     "text": [
      "2\n",
      "1\n",
      "5\n",
      "1\n",
      "4\n",
      "4\n",
      "1\n",
      "4\n",
      "4\n",
      "5\n"
     ]
    },
    {
     "data": {
      "text/plain": [
       "0"
      ]
     },
     "execution_count": 2,
     "metadata": {},
     "output_type": "execute_result"
    }
   ],
   "source": [
    "\n",
    "a = 1103515245\n",
    "b = 12345\n",
    "x = 1239\n",
    "\n",
    "\n",
    "def linearCongruent(x,n):\n",
    "    v = set()\n",
    "    for i in range(n):\n",
    "        x = (a*x+b)%(2**31)\n",
    "        print 1 + x%5\n",
    "        \n",
    "    return v\n",
    "\n",
    "sett = linearCongruent(19234422454,10)\n",
    "len(sett)"
   ]
  },
  {
   "cell_type": "markdown",
   "metadata": {},
   "source": [
    "#### 2)  Monte Carlo Integral.\n",
    "\n",
    "Evaluate the following integral\n",
    "\n",
    "$$\\iiint \\limits_C e^{-2x^2y^3z^4} \\; dx \\; dy \\; dz $$\n",
    "\n",
    "where $C$ is a sphere of radius 2 centered at (1,2,3)."
   ]
  },
  {
   "cell_type": "code",
   "execution_count": 23,
   "metadata": {
    "collapsed": false
   },
   "outputs": [],
   "source": [
    "#1 +- r\n",
    "#2 +- r\n",
    "#3 +- r\n",
    "n = 10**6\n",
    "x = np.random.random(n)*4 - 1 #[-1,3]\n",
    "y = np.random.random(n)*4     #[0,4]\n",
    "z = np.random.random(n)*4 + 1 #[1,5]\n"
   ]
  },
  {
   "cell_type": "code",
   "execution_count": 24,
   "metadata": {
    "collapsed": false
   },
   "outputs": [
    {
     "name": "stdout",
     "output_type": "stream",
     "text": [
      "85574.5919185\n"
     ]
    }
   ],
   "source": [
    "print np.sum(np.exp(-2*x**2*y**3*z**4))"
   ]
  },
  {
   "cell_type": "code",
   "execution_count": 25,
   "metadata": {
    "collapsed": false
   },
   "outputs": [
    {
     "data": {
      "text/plain": [
       "1.2790519633411424"
      ]
     },
     "execution_count": 25,
     "metadata": {},
     "output_type": "execute_result"
    }
   ],
   "source": [
    "radius = 2.0\n",
    "V = float(4*4*4)\n",
    "\n",
    "def f(xi,yi,zi):\n",
    "    return np.exp(-2*xi**2*yi**3*zi**4)\n",
    "\n",
    "def dist(xi,yi,zi):\n",
    "    x_origin = 1.\n",
    "    y_origin = 2.\n",
    "    z_origin = 3.\n",
    "    return((xi - x_origin)**2 + (yi - y_origin)**2 + (zi - z_origin)**2)**0.5\n",
    "def summF(x,y,z):\n",
    "    summ = 0\n",
    "    for xi,yi,zi in zip(x,y,z):\n",
    "        distance = dist(xi,yi,zi)\n",
    "        if distance <= radius:\n",
    "            summ+= f(xi,yi,zi)\n",
    "    return summ* V/float(n)\n",
    "summF(x,y,z)\n",
    "    "
   ]
  },
  {
   "cell_type": "markdown",
   "metadata": {},
   "source": [
    "#### 3) Coffee Shop (You can pick one to do either problem 3 or problem 4)"
   ]
  },
  {
   "cell_type": "markdown",
   "metadata": {
    "collapsed": false
   },
   "source": [
    "Let us consider the fruit shop in MUIC canteen. On each day the shop owner needs to figure out how many mangoes to buy on each day.\n",
    "\n",
    "MUIC has about 4000 students: 2200 female and 1800 male.\n",
    "The probability that a female student will buy mangoes on a day is about 5% and for male student is 3%.\n",
    "\n",
    "Each mango costs the shop 8 Baht a piece. The shop sell it for 20 Baht making 12 Baht profit. To make the problem simple we will assume two things.\n",
    "\n",
    " 1. Mango last only one day which means any left over mango worth 0 Baht at the end of the day.\n",
    " 2. To make the problem simple let us ignore the fixed cost such as rent and labor.\n",
    " 3. The shop owner cannot refill mango during the day. If the shop ran out of mango, and next customer comes in. The shop can't make the sale.\n",
    " \n",
    "The shopowner wants to maximize the profit. If the shop owner take the risk by buying a lot he will not be short of mango on a good day, but on a bad day he/she will lose a lot. The shop owner can play safe by buying very few mango so he/she don't lose too much on a bad day, but he/she will miss out a lot of money on a good day.\n",
    "\n",
    "Your task is to figure out how many mangoes the shop owner should buy.\n",
    "\n",
    "Hint: Use simulation and make a useful plot."
   ]
  },
  {
   "cell_type": "code",
   "execution_count": 46,
   "metadata": {
    "collapsed": false
   },
   "outputs": [
    {
     "name": "stdout",
     "output_type": "stream",
     "text": [
      "number of male and female who buy fruit on avg  54.0 110.0\n",
      "12\n",
      "648.0 1320.0\n",
      "number of student who buy fruits on avg  164.0\n"
     ]
    }
   ],
   "source": [
    "n_females = 2200\n",
    "n_males = 1800\n",
    "n_female_bf = n_females*0.05\n",
    "n_male_bf = n_males*0.03\n",
    "print \"number of male and female who buy fruit on avg \" , n_male_bf,n_female_bf\n",
    "profit = 20 - 8\n",
    "print profit \n",
    "print profit*n_male_bf,profit*n_female_bf\n",
    "\n",
    "n_students_bf = n_female_bf + n_male_bf\n",
    "print \"number of student who buy fruits on avg \" , n_students_bf"
   ]
  },
  {
   "cell_type": "code",
   "execution_count": 47,
   "metadata": {
    "collapsed": false
   },
   "outputs": [
    {
     "data": {
      "text/plain": [
       "[<matplotlib.lines.Line2D at 0x10d4a13d0>]"
      ]
     },
     "execution_count": 47,
     "metadata": {},
     "output_type": "execute_result"
    },
    {
     "data": {
      "image/png": "[encoded data removed]",
      "text/plain": [
       "<matplotlib.figure.Figure at 0x10d4db350>"
      ]
     },
     "metadata": {},
     "output_type": "display_data"
    }
   ],
   "source": [
    "#The shop owner should try and sell different amounts of mangoes each day\n",
    "\n",
    "def count_fm(fm):\n",
    "    return len(filter(lambda x: x < 0.05, fm))\n",
    "def count_m(m):\n",
    "    return len(filter(lambda x: x < 0.03, m))\n",
    "\n",
    "def random_avg(n):\n",
    "    n_st_bf = 0\n",
    "    for i in range(n):\n",
    "        m = np.random.random(1800)\n",
    "        fm = np.random.random(2200)\n",
    "        n_st_bf += count_fm(fm) + count_m(m)\n",
    "    return n_st_bf/float(n)\n",
    "        \n",
    "\n",
    "#show the profit: y when x number of mangoes are sold\n",
    "def simulatuion():\n",
    "    n_mangoes = 200\n",
    "    cost_mango = 8\n",
    "    selling_price = 20\n",
    "    mangoes_x = []\n",
    "    profit_y = []\n",
    "    \n",
    "    for i in range(100,n_mangoes):\n",
    "        #find the number of ppl who buy mango when i mangoes are sold\n",
    "        #add up the count of ppl\n",
    "        n_st_bf = random_avg(100)\n",
    "        mangoes_x.append(i)\n",
    "        #calc profit\n",
    "        if (i > n_st_bf):\n",
    "            profit = n_st_bf*selling_price - i*cost_mango\n",
    "        else:\n",
    "            profit = i*selling_price - i*cost_mango\n",
    "        profit_y.append(profit)\n",
    "    return mangoes_x,profit_y\n",
    "        \n",
    "x,y= simulatuion()\n",
    "plt.plot(x,y)\n"
   ]
  },
  {
   "cell_type": "code",
   "execution_count": 48,
   "metadata": {
    "collapsed": false
   },
   "outputs": [
    {
     "data": {
      "text/plain": [
       "165"
      ]
     },
     "execution_count": 48,
     "metadata": {},
     "output_type": "execute_result"
    }
   ],
   "source": [
    "max_index = y.index(max(y))\n",
    "x[max_index]"
   ]
  },
  {
   "cell_type": "markdown",
   "metadata": {},
   "source": [
    "#### 4) Blackjack"
   ]
  },
  {
   "cell_type": "markdown",
   "metadata": {},
   "source": [
    "Let us consider a simplified game of Blackjack. The game is a two-player game: dealer vs player. The goal of the game is get the sum of the card closest to but not over 21.\n",
    "\n",
    "The cards are counted as follows\n",
    "\n",
    "1. 2,3,4,5,6,7,8,9 are counted for the number on the card\n",
    "2. J,Q,K are counted as 10\n",
    "3. A are counted as either 1 or 11. Whichever one that gets us closer but not over 21.\n",
    "\n",
    "Here are some example\n",
    "\n",
    "1. 2, J has the sum of 2+10=12\n",
    "2. J Q has the sum of 10+10 = 10\n",
    "3. J A has the sum of 10+11 = 21\n",
    "4. A 2 J has the sum of 1 + 2 + 10 = 13 (Ace here counts as one since 11 will make the sum over 21)\n",
    "\n",
    "Here is how the game works:\n",
    "\n",
    "1. At the beginning each player gets two cards.\n",
    "2. If one player got 21 with that two cards, that player wins. If both players got 21 with the two cards then it's a draw.\n",
    "3. The player start first. The player can choose to stop or draw more cards for a chance to improve his/her hand. For this problem we will only consider the algorithm that if the player hand is strictly less than 17 he will draw. If the player has 17 or more, he/will keep drawing until the hand he/she has is 17 or more.\n",
    "4. If after any draw, the player has more than 21. This is called busted. Once the player is busted the player lose the game immediately.\n",
    "5. If the player stop drawing, and the dealer will start drawing with the same algorithm explained in 3. That is if the dealer has the sum of less than 17 the dealer will keep drawing until his hand is more than 17.\n",
    "6. If the dealer is busted, the dealer lose.(Note that if the player is busted, the dealer wins immediately regardless of the result from dealer's draw)\n",
    "7. If the dealer is not busted, then the sum of player hands and dealer hand are compared. Whoever got the higher number wins.\n",
    "\n",
    "**Your task**: Suppose we are playing this game with infinite amount of card deck. This means that the next card we draw is independent of the cards that are already out. *Calculate the probability that the player wins*."
   ]
  },
  {
   "cell_type": "code",
   "execution_count": 59,
   "metadata": {
    "collapsed": false
   },
   "outputs": [
    {
     "data": {
      "text/plain": [
       "0.2973"
      ]
     },
     "execution_count": 59,
     "metadata": {},
     "output_type": "execute_result"
    }
   ],
   "source": [
    "def draw():\n",
    "    cards = [2,3,4,5,6,7,8,9,10,10,10,11]\n",
    "    return cards[int(np.random.rand()*len(cards))]\n",
    "\n",
    "def keepdrawing(player_cards,curr_summ):\n",
    "    card = draw()\n",
    "    if (card == 11):\n",
    "        if (curr_summ + 11 > 21):\n",
    "            player_cards.append(1)\n",
    "        else:\n",
    "            player_cards.append(11)\n",
    "    if (sum(player_cards) > 21 and 11 in player_cards):\n",
    "        index11 = player_cards.index(11)\n",
    "        player_cards[index11] = 1\n",
    "    return sum(player_cards)\n",
    "\n",
    "def game():\n",
    "    player_cards = [draw(),draw()]\n",
    "    dealer_cards = [draw(),draw()]\n",
    "    \n",
    "    sp1 = sum(player_cards)\n",
    "    sp2 = sum(dealer_cards)\n",
    "    \n",
    "    #if we draw 2 *11 change one of them to 12\n",
    "    if (sp1 == 22):\n",
    "        sp1 = 12\n",
    "    if (sp2 == 22):\n",
    "        sp2 = 12\n",
    "    if (sp1 == 21 and sp2 == 21 ):\n",
    "        return 0\n",
    "    while (sp1 < 17):\n",
    "        sp1 = keepdrawing(player_cards,sp1)\n",
    "    while (sp2 < 17):\n",
    "        sp2 = keepdrawing(dealer_cards,sp2)\n",
    "    if (sp1 > 21):\n",
    "        return 0\n",
    "    elif (sp2 > 21):\n",
    "        return 1\n",
    "    if (sp1 > sp2):\n",
    "        return 1\n",
    "    else:\n",
    "        return 0\n",
    "\n",
    "\n",
    "def simulate():\n",
    "    a = []\n",
    "    for i in range(10000):\n",
    "        a.append(game())\n",
    "    return sum(a)/float(len(a))\n",
    "simulate()\n",
    "        \n",
    "    \n",
    "        \n",
    "        \n",
    "        \n",
    "    \n",
    "    \n",
    "\n"
   ]
  },
  {
   "cell_type": "markdown",
   "metadata": {},
   "source": [
    "#### 5) Travelling Salesman Problem.\n",
    "\n",
    "This problem concerns solving a famouse NP problem called Traveling salesman problem. Here is the prolem:\n",
    "\n",
    "Consider a salesman who wants to travel to every city with minimum total cost and go back to the original city. Going from one city to another city has cost associtated with it.\n",
    "\n",
    "Suppose there are 4 cities $\\{c_1, c_2, c_3, c_4\\}$ and the ticket price from going from city $i$ to city $j$ is $T_{ij}$. The tour of the four cities can be represented as a permutation. For example, the strategy that visit the four cities and going back to the original in the following order\n",
    "\n",
    "\n",
    "$$c_2 \\to c_3 \\to c_1 \\to c_4 \\to c_2$$\n",
    "\n",
    "\n",
    "can be represented with the list\n",
    "\n",
    "\n",
    "$$L = [2, 3, 1, 4]$$\n",
    "\n",
    "\n",
    "and the cost associated with this trip is given by the sum of the travel cost of one to the next and from the end to the beginning\n",
    "\n",
    "\n",
    "$$ \\text{Cost}(L) = T_{23} + T_{31} + T_{14} + T_{42}$$\n",
    "\n",
    "This is an NP problem since we need to search over the space of $N!$ trips where $N$ is the number of cities. If we try to do a brute force search it will take way too long.\n",
    "\n",
    "**Your Task** Solve this problem using hill climbing/ simulated annealing for the 10 cities where the cost for going from city $i$ to city $j$ is given in the matrix T$ $below.\n",
    "\n",
    "**Hint**: The move you can make to get the next tour from previous tour is to pick two numbers from the old tour and swap them.\n",
    "\n",
    "See wiki for more info regarding this problem."
   ]
  },
  {
   "cell_type": "code",
   "execution_count": 51,
   "metadata": {
    "collapsed": false
   },
   "outputs": [],
   "source": [
    "np.random.seed(79)\n",
    "n_city = 10\n",
    "T = (np.random.randn(n_city, n_city)+1)**2\n"
   ]
  },
  {
   "cell_type": "code",
   "execution_count": 52,
   "metadata": {
    "collapsed": false
   },
   "outputs": [
    {
     "name": "stdout",
     "output_type": "stream",
     "text": [
      "3.14812187728 0.149370006156 6.02410558733\n"
     ]
    }
   ],
   "source": [
    "print T[2][3], T[3][2],T[9][0]"
   ]
  },
  {
   "cell_type": "code",
   "execution_count": 53,
   "metadata": {
    "collapsed": false
   },
   "outputs": [],
   "source": [
    "import copy\n",
    "def swap(tour):\n",
    "    i = np.random.randint(9)\n",
    "    j = np.random.randint(9)\n",
    "    tmp = tour[i]\n",
    "    tour[i] = tour[j]\n",
    "    tour[j] = tmp\n",
    "    return tour\n",
    "\n",
    "def cost(tour):\n",
    "    summ = 0\n",
    "    for i in range(len(tour)-1):\n",
    "        i,j = tour[i:i+2]\n",
    "        summ += T[i][j]\n",
    "    return summ   \n",
    "def loop(tour,n):\n",
    "    current_cost = cost(tour)\n",
    "    current_tour = copy.copy(tour)\n",
    "    for i in range(n):\n",
    "        new_tour = swap(copy.copy(current_tour))\n",
    "        new_cost = cost(new_tour)\n",
    "        if (new_cost < current_cost):\n",
    "            current_cost = new_cost\n",
    "            current_tour  = new_tour\n",
    "    return current_tour\n",
    "      \n",
    "tour = range(10)\n",
    "best_tour = loop(tour,100000)"
   ]
  },
  {
   "cell_type": "code",
   "execution_count": 54,
   "metadata": {
    "collapsed": false
   },
   "outputs": [
    {
     "name": "stdout",
     "output_type": "stream",
     "text": [
      "path  [7, 1, 5, 3, 6, 0, 4, 2, 8, 9] cost  3.85554877084\n"
     ]
    }
   ],
   "source": [
    "\n",
    "print \"path \",best_tour,\"cost \", cost(best_tour)"
   ]
  },
  {
   "cell_type": "code",
   "execution_count": null,
   "metadata": {
    "collapsed": true
   },
   "outputs": [],
   "source": []
  },
  {
   "cell_type": "code",
   "execution_count": null,
   "metadata": {
    "collapsed": true
   },
   "outputs": [],
   "source": []
  },
  {
   "cell_type": "code",
   "execution_count": null,
   "metadata": {
    "collapsed": true
   },
   "outputs": [],
   "source": []
  },
  {
   "cell_type": "code",
   "execution_count": null,
   "metadata": {
    "collapsed": true
   },
   "outputs": [],
   "source": []
  },
  {
   "cell_type": "code",
   "execution_count": null,
   "metadata": {
    "collapsed": true
   },
   "outputs": [],
   "source": []
  },
  {
   "cell_type": "code",
   "execution_count": null,
   "metadata": {
    "collapsed": true
   },
   "outputs": [],
   "source": []
  },
  {
   "cell_type": "code",
   "execution_count": null,
   "metadata": {
    "collapsed": true
   },
   "outputs": [],
   "source": []
  }
 ],
 "metadata": {
  "kernelspec": {
   "display_name": "Python 2",
   "language": "python",
   "name": "python2"
  },
  "language_info": {
   "codemirror_mode": {
    "name": "ipython",
    "version": 2
   },
   "file_extension": ".py",
   "mimetype": "text/x-python",
   "name": "python",
   "nbconvert_exporter": "python",
   "pygments_lexer": "ipython2",
   "version": "2.7.13"
  }
 },
 "nbformat": 4,
 "nbformat_minor": 0
}
