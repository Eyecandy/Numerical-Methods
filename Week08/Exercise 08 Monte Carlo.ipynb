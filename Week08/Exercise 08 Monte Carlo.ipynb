{
 "cells": [
  {
   "cell_type": "markdown",
   "metadata": {},
   "source": [
    "## Pseudo Random Number Generator\n",
    "\n",
    "Let us learn about how to generate a random number."
   ]
  },
  {
   "cell_type": "code",
   "execution_count": 2,
   "metadata": {
    "collapsed": true
   },
   "outputs": [],
   "source": [
    "%matplotlib inline\n",
    "from matplotlib import pyplot as plt\n",
    "import numpy as np\n",
    "import math"
   ]
  },
  {
   "cell_type": "markdown",
   "metadata": {},
   "source": [
    "#### 1) Linear Congruent\n",
    "One of the easiest way to make random number is using linear congruential.\n",
    "\n",
    "$$x_{n+1} = a x_{n} + b \\mod 2^{31}$$\n",
    "\n",
    "pick a random $a$ and $b$ then try."
   ]
  },
  {
   "cell_type": "code",
   "execution_count": 3,
   "metadata": {
    "collapsed": false
   },
   "outputs": [
    {
     "data": {
      "text/plain": [
       "1455800772"
      ]
     },
     "execution_count": 3,
     "metadata": {},
     "output_type": "execute_result"
    }
   ],
   "source": [
    "a = 3\n",
    "b = 34\n",
    "x = 9\n",
    "a = 1103515245\n",
    "b = 12345\n",
    "x = 1239\n",
    "xn = (a*x+b)%2**31\n",
    "xn"
   ]
  },
  {
   "cell_type": "markdown",
   "metadata": {},
   "source": [
    "#### 2) Cycle Problem\n",
    "\n",
    "One of the problem with linear congruent is short cycle length. For example,\n",
    "\n",
    "$$x_{n+1} =  ax_{n} + b \\mod 11$$\n",
    "\n",
    "No matter what value you give $a$ and $b$. Your cycle length will be at most 11."
   ]
  },
  {
   "cell_type": "code",
   "execution_count": 4,
   "metadata": {
    "collapsed": false
   },
   "outputs": [
    {
     "data": {
      "text/plain": [
       "100"
      ]
     },
     "execution_count": 4,
     "metadata": {},
     "output_type": "execute_result"
    }
   ],
   "source": [
    "def linearCongruent(x):\n",
    "    v = set()\n",
    "    for i in range(100):\n",
    "        x = (a*x+b)%(2**31)\n",
    "        v.add(x)\n",
    "        \n",
    "    return v\n",
    "sett = linearCongruent(19232422424)\n",
    "len(sett)\n"
   ]
  },
  {
   "cell_type": "markdown",
   "metadata": {},
   "source": [
    "#### 3) Fixing Cycle problem\n",
    "\n",
    "One way to do it is to generate it with a better cycle and then mod 11."
   ]
  },
  {
   "cell_type": "code",
   "execution_count": 7,
   "metadata": {
    "collapsed": false
   },
   "outputs": [
    {
     "name": "stdout",
     "output_type": "stream",
     "text": [
      "5\n",
      "4\n",
      "3\n",
      "0\n",
      "3\n",
      "2\n",
      "3\n",
      "0\n",
      "3\n",
      "4\n",
      "5\n",
      "2\n",
      "5\n",
      "2\n",
      "3\n",
      "0\n",
      "5\n",
      "4\n",
      "1\n",
      "0\n",
      "3\n",
      "2\n",
      "5\n",
      "2\n",
      "3\n",
      "4\n",
      "1\n",
      "2\n",
      "5\n",
      "0\n",
      "1\n",
      "2\n",
      "3\n",
      "4\n",
      "5\n",
      "4\n",
      "1\n",
      "4\n",
      "1\n",
      "4\n",
      "3\n",
      "4\n",
      "5\n",
      "0\n",
      "3\n",
      "0\n",
      "5\n",
      "0\n",
      "3\n",
      "4\n",
      "1\n",
      "0\n",
      "5\n",
      "4\n",
      "5\n",
      "4\n",
      "3\n",
      "2\n",
      "3\n",
      "2\n",
      "1\n",
      "2\n",
      "5\n",
      "4\n",
      "3\n",
      "0\n",
      "1\n",
      "4\n",
      "3\n",
      "2\n",
      "3\n",
      "2\n",
      "5\n",
      "0\n",
      "3\n",
      "2\n",
      "1\n",
      "4\n",
      "1\n",
      "2\n",
      "1\n",
      "4\n",
      "3\n",
      "0\n",
      "3\n",
      "0\n",
      "3\n",
      "2\n",
      "5\n",
      "4\n",
      "1\n",
      "4\n",
      "5\n",
      "4\n",
      "3\n",
      "0\n",
      "5\n",
      "0\n",
      "3\n",
      "2\n"
     ]
    },
    {
     "data": {
      "text/plain": [
       "0"
      ]
     },
     "execution_count": 7,
     "metadata": {},
     "output_type": "execute_result"
    }
   ],
   "source": [
    "def linearCongruent(x):\n",
    "    v = set()\n",
    "    for i in range(100):\n",
    "        x = (a*x+b)%(2**31)\n",
    "        print x%6\n",
    "        \n",
    "    return v\n",
    "\n",
    "sett = linearCongruent(19232422424)\n",
    "len(sett)"
   ]
  },
  {
   "cell_type": "markdown",
   "metadata": {},
   "source": [
    "#### 4) Some available random number from numpy/python\n",
    "\n",
    "`np.random.random` for random a float uniformly between 0 and 1.\n",
    "\n",
    "`np.random.randint` for random integer uniformly in some range.\n",
    "\n",
    "`np.random.randn` for random float from normal distribution with mean 0 and standard deviation 1."
   ]
  },
  {
   "cell_type": "code",
   "execution_count": 6,
   "metadata": {
    "collapsed": true
   },
   "outputs": [],
   "source": [
    "from numpy.random import random, randint,randn\n"
   ]
  },
  {
   "cell_type": "markdown",
   "metadata": {},
   "source": [
    "#### 5) Manipulating random number to get desired behavior.\n",
    "\n",
    "Random a float from 0 to 5.\n",
    "\n",
    "Random a float from -1 to 1.\n",
    "\n",
    "Random a float form normal distribution with mean 5 and std dev 1.\n",
    "\n",
    "Random a float form normal distribution with mean 2 and std dev 10."
   ]
  },
  {
   "cell_type": "code",
   "execution_count": 7,
   "metadata": {
    "collapsed": false
   },
   "outputs": [
    {
     "name": "stdout",
     "output_type": "stream",
     "text": [
      "[-0.74421775  0.28750297 -0.65530876 -0.21665314  0.54833857  0.66177294\n",
      " -0.40025284  0.65767666 -0.89208752 -0.25218641]\n"
     ]
    },
    {
     "data": {
      "image/png": "[encoded data removed]",
      "text/plain": [
       "<matplotlib.figure.Figure at 0x10676e9d0>"
      ]
     },
     "metadata": {},
     "output_type": "display_data"
    },
    {
     "data": {
      "image/png": "[encoded data removed]",
      "text/plain": [
       "<matplotlib.figure.Figure at 0x10676eb10>"
      ]
     },
     "metadata": {},
     "output_type": "display_data"
    }
   ],
   "source": [
    "random(100)*5\n",
    "r2 = (np.random.random(10)*2) - 1\n",
    "print r2\n",
    "\n",
    "r3 = randn(1000000) + 5\n",
    "plt.hist(r3,bins=100);\n",
    "plt.figure()\n",
    "\n",
    "r4 = np.random.randn(1000000)*10 + 2\n",
    "\n",
    "plt.hist(r4,bins=100);\n",
    "\n",
    "\n",
    "\n",
    "\n",
    "\n",
    "\n",
    "\n"
   ]
  },
  {
   "cell_type": "markdown",
   "metadata": {},
   "source": [
    "6) What does np.random.seed do?"
   ]
  },
  {
   "cell_type": "code",
   "execution_count": 8,
   "metadata": {
    "collapsed": true
   },
   "outputs": [],
   "source": [
    "#we get a fixed random number, which makes testing/debugging easier"
   ]
  },
  {
   "cell_type": "markdown",
   "metadata": {},
   "source": [
    "### Monte Carlo Integration"
   ]
  },
  {
   "cell_type": "markdown",
   "metadata": {},
   "source": [
    "#### 1) Let integrate\n",
    "$$ \\iiint \\limits_{C} x^2(y-1)^2(z-2)^2\\exp(xyz) \\; dx \\; dy \\; dz$$\n",
    "Over a cube $x \\in [-1,1], y\\in [-1,1], z\\in [-1,1]$"
   ]
  },
  {
   "cell_type": "code",
   "execution_count": 9,
   "metadata": {
    "collapsed": false
   },
   "outputs": [
    {
     "name": "stdout",
     "output_type": "stream",
     "text": [
      "15.9780465514\n"
     ]
    }
   ],
   "source": [
    "n = 10**5 #number of pieces\n",
    "x = np.random.random(n)*2 -1\n",
    "y = np.random.random(n)*2 - 1\n",
    "z = np.random.random(n)* 2 -1\n",
    "#V = 8. becase x * y * z\n",
    "\n",
    "print np.sum(x**2*(y-1)**2*(z-2)**2 * np.exp(x*y*z)) * (8./n)"
   ]
  },
  {
   "cell_type": "markdown",
   "metadata": {},
   "source": [
    "#### 2) Evaluate\n",
    "$$ \\iiint \\limits_{C} x^2(y-1)^2(z-2)^2\\exp(xyz) \\; dx \\; dy \\; dz$$\n",
    "Over a sphere of radius 1 centered at the origin."
   ]
  },
  {
   "cell_type": "code",
   "execution_count": 10,
   "metadata": {
    "collapsed": false
   },
   "outputs": [
    {
     "data": {
      "text/plain": [
       "3.9728101779700107"
      ]
     },
     "execution_count": 10,
     "metadata": {},
     "output_type": "execute_result"
    }
   ],
   "source": [
    "\n",
    "#V is still volumeo of the cube\n",
    "\n",
    "n = 10**6 #number of pieces\n",
    "x_p = np.random.random(n)*2 -1\n",
    "y_p = np.random.random(n)*2 -1\n",
    "z_p = np.random.random(n)*2 -1\n",
    "\n",
    "radius = 1.0\n",
    "\n",
    "\n",
    "def f(xi,yi,zi):\n",
    "    return (xi**2*(yi-1)**2*(zi-2)**2 * np.exp(xi*yi*zi) )\n",
    "\n",
    "def dist(xi,yi,zi):\n",
    "    x_origin = 0\n",
    "    y_origin = 0\n",
    "    z_origin = 0\n",
    "    return ((xi - x_origin)**2 + (yi - y_origin)**2 + (zi - z_origin)**2)**0.5\n",
    "def summF(x,y,z):\n",
    "    summ = 0\n",
    "    for xi,yi,zi in zip(x,y,z):\n",
    "        distance = dist(xi,yi,zi)\n",
    "        if distance <= radius:\n",
    "            summ+= f(xi,yi,zi)\n",
    "    return summ* 8./n\n",
    "summF(x_p,y_p,z_p)\n",
    "    \n",
    "            \n",
    "    "
   ]
  },
  {
   "cell_type": "markdown",
   "metadata": {},
   "source": [
    "3) Do we guarantee to get the same answer when we repeat the experiment?"
   ]
  },
  {
   "cell_type": "code",
   "execution_count": 11,
   "metadata": {
    "collapsed": true
   },
   "outputs": [],
   "source": [
    "#nah\n"
   ]
  },
  {
   "cell_type": "markdown",
   "metadata": {},
   "source": [
    "4) What do we need to do to guarantee the same answer?"
   ]
  },
  {
   "cell_type": "code",
   "execution_count": 12,
   "metadata": {
    "collapsed": true
   },
   "outputs": [],
   "source": [
    "#seed it"
   ]
  },
  {
   "cell_type": "markdown",
   "metadata": {},
   "source": [
    "5) How do we defind the convergence and how fast is the convergence for monte carlo integration?"
   ]
  },
  {
   "cell_type": "code",
   "execution_count": 13,
   "metadata": {
    "collapsed": true
   },
   "outputs": [],
   "source": [
    "#var[answer] = var[sum(f(x) * v/n)]\n",
    "\n",
    "#end result:\n",
    "#var[Answer] =  (v**2)/n * var[f] \n",
    "#sigma_anser = error = v*sigma/n**0.5\n"
   ]
  },
  {
   "cell_type": "markdown",
   "metadata": {},
   "source": [
    "## Monte Carlo Simulations"
   ]
  },
  {
   "cell_type": "markdown",
   "metadata": {},
   "source": [
    "### Loaded Die.\n",
    "\n",
    "<table>\n",
    "<tr style=\"text-align:center\">\n",
    "    <td>Number</td>\n",
    "    <td>1</td>\n",
    "    <td>2</td>\n",
    "    <td>3</td>\n",
    "    <td>4</td>\n",
    "    <td>5</td>\n",
    "    <td>6</td>\n",
    "</tr>\n",
    "<tr style=\"text-align:center\">\n",
    "    <td>Probability</td>\n",
    "    <td>0.3</td>\n",
    "    <td>0.2</td>\n",
    "    <td>0.1</td>\n",
    "    <td>0.2</td>\n",
    "    <td>0.1</td>\n",
    "    <td>0.1</td>\n",
    "</tr>\n",
    "</table>"
   ]
  },
  {
   "cell_type": "markdown",
   "metadata": {},
   "source": [
    "#### 1) Simulating the dice.\n",
    "\n",
    "Simulate the dice result such that it has the given probability distribution."
   ]
  },
  {
   "cell_type": "code",
   "execution_count": 14,
   "metadata": {
    "collapsed": false
   },
   "outputs": [
    {
     "data": {
      "text/plain": [
       "(array([ 299542.,       0.,       0.,       0.,       0.,       0.,\n",
       "              0.,       0.,       0.,       0.,       0.,       0.,\n",
       "              0.,       0.,       0.,       0.,       0.,       0.,\n",
       "              0.,       0.,  200617.,       0.,       0.,       0.,\n",
       "              0.,       0.,       0.,       0.,       0.,       0.,\n",
       "              0.,       0.,       0.,       0.,       0.,       0.,\n",
       "              0.,       0.,       0.,       0.,   99844.,       0.,\n",
       "              0.,       0.,       0.,       0.,       0.,       0.,\n",
       "              0.,       0.,       0.,       0.,       0.,       0.,\n",
       "              0.,       0.,       0.,       0.,       0.,       0.,\n",
       "         199784.,       0.,       0.,       0.,       0.,       0.,\n",
       "              0.,       0.,       0.,       0.,       0.,       0.,\n",
       "              0.,       0.,       0.,       0.,       0.,       0.,\n",
       "              0.,       0.,  100176.,       0.,       0.,       0.,\n",
       "              0.,       0.,       0.,       0.,       0.,       0.,\n",
       "              0.,       0.,       0.,       0.,       0.,       0.,\n",
       "              0.,       0.,       0.,  100037.]),\n",
       " array([ 1.  ,  1.05,  1.1 ,  1.15,  1.2 ,  1.25,  1.3 ,  1.35,  1.4 ,\n",
       "         1.45,  1.5 ,  1.55,  1.6 ,  1.65,  1.7 ,  1.75,  1.8 ,  1.85,\n",
       "         1.9 ,  1.95,  2.  ,  2.05,  2.1 ,  2.15,  2.2 ,  2.25,  2.3 ,\n",
       "         2.35,  2.4 ,  2.45,  2.5 ,  2.55,  2.6 ,  2.65,  2.7 ,  2.75,\n",
       "         2.8 ,  2.85,  2.9 ,  2.95,  3.  ,  3.05,  3.1 ,  3.15,  3.2 ,\n",
       "         3.25,  3.3 ,  3.35,  3.4 ,  3.45,  3.5 ,  3.55,  3.6 ,  3.65,\n",
       "         3.7 ,  3.75,  3.8 ,  3.85,  3.9 ,  3.95,  4.  ,  4.05,  4.1 ,\n",
       "         4.15,  4.2 ,  4.25,  4.3 ,  4.35,  4.4 ,  4.45,  4.5 ,  4.55,\n",
       "         4.6 ,  4.65,  4.7 ,  4.75,  4.8 ,  4.85,  4.9 ,  4.95,  5.  ,\n",
       "         5.05,  5.1 ,  5.15,  5.2 ,  5.25,  5.3 ,  5.35,  5.4 ,  5.45,\n",
       "         5.5 ,  5.55,  5.6 ,  5.65,  5.7 ,  5.75,  5.8 ,  5.85,  5.9 ,\n",
       "         5.95,  6.  ]),\n",
       " <a list of 100 Patch objects>)"
      ]
     },
     "execution_count": 14,
     "metadata": {},
     "output_type": "execute_result"
    },
    {
     "data": {
      "image/png": "[encoded data removed]",
      "text/plain": [
       "<matplotlib.figure.Figure at 0x10f29d150>"
      ]
     },
     "metadata": {},
     "output_type": "display_data"
    }
   ],
   "source": [
    "def dice():\n",
    "    throw = np.random.rand()\n",
    "    if throw <= 0.3:\n",
    "        return 1\n",
    "    elif throw <= 0.5:\n",
    "        return 2\n",
    "    elif throw <= 0.6:\n",
    "        return 3\n",
    "    elif throw <= 0.8:\n",
    "        return 4\n",
    "    elif throw <= 0.9:\n",
    "        return 5\n",
    "    else:\n",
    "        return 6\n",
    "    \n",
    "throws = 1000000\n",
    "result = [dice() for throw in range(throws)]\n",
    "\n",
    "plt.hist(result,bins = 100)\n",
    "\n",
    "\n",
    "\n",
    "    \n",
    "        \n",
    "    \n",
    "        "
   ]
  },
  {
   "cell_type": "markdown",
   "metadata": {},
   "source": [
    "#### 2) Expected Value.\n",
    "\n",
    "What is the expected value of dice result? Try both simulation and analytical formula."
   ]
  },
  {
   "cell_type": "code",
   "execution_count": 15,
   "metadata": {
    "collapsed": false
   },
   "outputs": [
    {
     "data": {
      "text/plain": [
       "(2.9, 2.900546)"
      ]
     },
     "execution_count": 15,
     "metadata": {},
     "output_type": "execute_result"
    }
   ],
   "source": [
    "x = sum(result)/float(n)\n",
    "analytic = 0.3*1 + 0.2*2 + 0.1*3 + 4*0.2 + 5*0.1 + 6*0.1\n",
    "analytic, x"
   ]
  },
  {
   "cell_type": "markdown",
   "metadata": {},
   "source": [
    "3) What is the expected value of $A+B$ where $A$ is the result of the first dice and $B$ is the result of the second dice? Use simulation and compare with analytic answer."
   ]
  },
  {
   "cell_type": "code",
   "execution_count": 16,
   "metadata": {
    "collapsed": false
   },
   "outputs": [
    {
     "data": {
      "text/plain": [
       "5.800571"
      ]
     },
     "execution_count": 16,
     "metadata": {},
     "output_type": "execute_result"
    }
   ],
   "source": [
    "new_result = [dice()+dice() for i in range(throws)] \n",
    "sum(new_result)/float(n)\n"
   ]
  },
  {
   "cell_type": "markdown",
   "metadata": {},
   "source": [
    "4) What is the expected value of $AB$?"
   ]
  },
  {
   "cell_type": "code",
   "execution_count": 17,
   "metadata": {
    "collapsed": false
   },
   "outputs": [
    {
     "data": {
      "text/plain": [
       "8.406931"
      ]
     },
     "execution_count": 17,
     "metadata": {},
     "output_type": "execute_result"
    }
   ],
   "source": [
    "r3 = [dice()*dice() for throw in range(throw)]\n",
    "sum(r3)/float(n)"
   ]
  },
  {
   "cell_type": "markdown",
   "metadata": {},
   "source": [
    "5) Try the experiment 10,000 times and plot out the probability of getting each result for $AB$. (Probability is given by #of times we get the number/total number of experiment."
   ]
  },
  {
   "cell_type": "code",
   "execution_count": 18,
   "metadata": {
    "collapsed": false
   },
   "outputs": [
    {
     "data": {
      "text/plain": [
       "<Container object of 18 artists>"
      ]
     },
     "execution_count": 18,
     "metadata": {},
     "output_type": "execute_result"
    },
    {
     "data": {
      "image/png": "[encoded data removed]",
      "text/plain": [
       "<matplotlib.figure.Figure at 0x1111d3850>"
      ]
     },
     "metadata": {},
     "output_type": "display_data"
    }
   ],
   "source": [
    "dic = dict()\n",
    "r3 = [dice()*dice() for throw in range(throws)]\n",
    "for i in r3:\n",
    "    if i in dic:\n",
    "        dic[i] +=1\n",
    "    else:\n",
    "        dic[i] = 1\n",
    "\n",
    "\n",
    "for i in dic:\n",
    "    dic[i] = dic[i]/float(n)\n",
    "\n",
    "plt.bar(dic.keys(), dic.values(),  color='g')\n"
   ]
  },
  {
   "cell_type": "markdown",
   "metadata": {},
   "source": [
    "6) Now we play the games of two people. We take the product of the two dice. Whoever get more number wins. What is the probability of getting a draw."
   ]
  },
  {
   "cell_type": "code",
   "execution_count": null,
   "metadata": {
    "collapsed": true
   },
   "outputs": [],
   "source": []
  },
  {
   "cell_type": "markdown",
   "metadata": {},
   "source": [
    "7) A little bit harder: consider the game of product dice. If our first dice is 3, what is the probability of winning?"
   ]
  },
  {
   "cell_type": "code",
   "execution_count": null,
   "metadata": {
    "collapsed": true
   },
   "outputs": [],
   "source": []
  },
  {
   "cell_type": "markdown",
   "metadata": {},
   "source": [
    "### Geometric Brownian Motion.\n",
    "\n",
    "One popular way to simulate stock is using geometric brownian motion. Stockprice at $t+dt$ is related to the stock price at time $t$ by\n",
    "\n",
    "$$s(t+dt) = s(t) + s(t)(\\mu dt + \\epsilon\\sigma \\sqrt{dt}) $$\n",
    "\n",
    "where\n",
    "1. $\\mu$ is the mean rate of return. Typically quote as $\\%$ per year.\n",
    "2. $\\epsilon$ is a normally distributed random variable with mean 0 and variance of 1.\n",
    "3. $\\sigma$ is called volatility. It typically quoted as $\\%$ per $\\sqrt{\\text{year}}$. It represent how wildly stock can go.\n",
    "\n",
    "To use this formula, we need to make sure the unit for $t$ is correct. Normally just convert it to year\n",
    "\n",
    "All these number can be looked up from the internet (you can calculate one yourself from historical data too). \n",
    "\n",
    "Here is one example: google for aapl volatility.\n",
    "\n",
    "The funny unit of $\\sqrt{t}$ has to do with scaling behavior. You can read it in the lecture notes."
   ]
  },
  {
   "cell_type": "markdown",
   "metadata": {},
   "source": [
    "1) Given the volatility($\\sigma$) of $28\\%$ per $\\sqrt{\\text{year}}$ and mean rate of return $8.77\\%$. The stock today is 119.21$. Write a function to generate the price for tomorrow given the price today."
   ]
  },
  {
   "cell_type": "code",
   "execution_count": 19,
   "metadata": {
    "collapsed": false
   },
   "outputs": [],
   "source": [
    "def next_price(s,mu,sigma,dt):\n",
    "    e = np.random.randn()\n",
    "    return s + s * (mu * dt + e*sigma*math.sqrt(dt))\n",
    "def gen_1year(mu,sigma):\n",
    "    ret = []\n",
    "    ndays = 252\n",
    "    s = 119.121\n",
    "    dt = 1./ndays\n",
    "    ret.append(s)\n",
    "    for i in range(ndays - 1):\n",
    "        s = next_price(s,mu,sigma,dt)\n",
    "        ret.append(s)\n",
    "    return ret"
   ]
  },
  {
   "cell_type": "markdown",
   "metadata": {},
   "source": [
    "2) Generate the price for 1 trading year(all the time we said year it actually means trading year). Have dt = 1 day. 1 Trading year is actually 252 day."
   ]
  },
  {
   "cell_type": "code",
   "execution_count": 20,
   "metadata": {
    "collapsed": false
   },
   "outputs": [
    {
     "data": {
      "image/png": "[encoded data removed]",
      "text/plain": [
       "<matplotlib.figure.Figure at 0x10f157910>"
      ]
     },
     "metadata": {},
     "output_type": "display_data"
    }
   ],
   "source": [
    "all_stocks = []\n",
    "for  i in range(20):\n",
    "    prices = gen_1year(0.0877,0.28)\n",
    "    plt.plot(prices)\n",
    "    all_stocks.append(prices)\n",
    "\n",
    "\n"
   ]
  },
  {
   "cell_type": "markdown",
   "metadata": {},
   "source": [
    "3) What is the expected value of the stock at the end of year?"
   ]
  },
  {
   "cell_type": "code",
   "execution_count": 21,
   "metadata": {
    "collapsed": false
   },
   "outputs": [],
   "source": [
    "s = 0\n",
    "for stock in all_stocks:\n",
    "    s += stock[-1]\n",
    "mean = s/20\n",
    "    \n",
    "    "
   ]
  },
  {
   "cell_type": "markdown",
   "metadata": {},
   "source": [
    "4) What is the variance of the stock at the end of the year?"
   ]
  },
  {
   "cell_type": "code",
   "execution_count": 22,
   "metadata": {
    "collapsed": false
   },
   "outputs": [
    {
     "name": "stdout",
     "output_type": "stream",
     "text": [
      "1037.88911505\n"
     ]
    }
   ],
   "source": [
    "var = 0\n",
    "for stock in all_stocks:\n",
    "    var += (stock[-1] - mean)**2\n",
    "print var/20\n",
    "    "
   ]
  },
  {
   "cell_type": "markdown",
   "metadata": {},
   "source": [
    "5) What is the probability that the price of the stock will dip below 70 at anytime of the year?"
   ]
  },
  {
   "cell_type": "code",
   "execution_count": 23,
   "metadata": {
    "collapsed": false
   },
   "outputs": [
    {
     "data": {
      "text/plain": [
       "0.0"
      ]
     },
     "execution_count": 23,
     "metadata": {},
     "output_type": "execute_result"
    }
   ],
   "source": [
    "summ = 0\n",
    "for prices in all_stocks:\n",
    "    for price in prices:\n",
    "        if price < 70:\n",
    "            summ+=1\n",
    "            break\n",
    "summ/20.\n",
    "            \n",
    "    "
   ]
  },
  {
   "cell_type": "markdown",
   "metadata": {},
   "source": [
    "6) What is the proabability that th stock will dip below 100 and come back to 110 within a year? "
   ]
  },
  {
   "cell_type": "code",
   "execution_count": 24,
   "metadata": {
    "collapsed": false
   },
   "outputs": [
    {
     "name": "stdout",
     "output_type": "stream",
     "text": [
      "0.15\n"
     ]
    }
   ],
   "source": [
    "summ = 0\n",
    "for prices in all_stocks:\n",
    "    went_below_100 = False\n",
    "    for price in prices:\n",
    "        if price < 100:\n",
    "            went_below_100 = True\n",
    "        elif price > 110 and went_below_100:\n",
    "            summ+=1\n",
    "            break\n",
    "            \n",
    "            \n",
    "print summ/20."
   ]
  },
  {
   "cell_type": "markdown",
   "metadata": {},
   "source": [
    "### Hill Climbing"
   ]
  },
  {
   "cell_type": "markdown",
   "metadata": {},
   "source": [
    "### Biggest Triangle.\n",
    "Let us consider the problem of finding the triangle with maximum area from given 500 points."
   ]
  },
  {
   "cell_type": "code",
   "execution_count": 25,
   "metadata": {
    "collapsed": false
   },
   "outputs": [
    {
     "data": {
      "text/plain": [
       "[<matplotlib.lines.Line2D at 0x10e8392d0>]"
      ]
     },
     "execution_count": 25,
     "metadata": {},
     "output_type": "execute_result"
    },
    {
     "data": {
      "image/png": "[encoded data removed]",
      "text/plain": [
       "<matplotlib.figure.Figure at 0x10f2ed590>"
      ]
     },
     "metadata": {},
     "output_type": "display_data"
    }
   ],
   "source": [
    "np.random.seed(13)\n",
    "n = 500\n",
    "x = np.random.randn(n)*2-1\n",
    "y = np.random.randn(n)*2-1\n",
    "plt.plot(x,y,'.r')"
   ]
  },
  {
   "cell_type": "code",
   "execution_count": null,
   "metadata": {
    "collapsed": false
   },
   "outputs": [],
   "source": [
    "def triarea(x1,y1, x2,y2, x3,y3):\n",
    "    #shoelace formula\n",
    "    return 0.5*abs(x1*y2 + x2*y3 + x3*y1 - y1*x2 - y2*x3 - y3*x1)\n",
    "\n",
    "def triarea2(r):\n",
    "    x1,y1 = r[0]\n",
    "    x2,y2 = r[1]\n",
    "    x3,y3 = r[2]\n",
    "    return triarea(x1,y1, x2,y2, x3,y3)\n"
   ]
  },
  {
   "cell_type": "code",
   "execution_count": null,
   "metadata": {
    "collapsed": true
   },
   "outputs": [],
   "source": []
  },
  {
   "cell_type": "markdown",
   "metadata": {
    "collapsed": true
   },
   "source": [
    "### Scheduling Exam\n",
    "\n",
    "Give classes and the intersection of students. Find a decent scheduling under 15 slot for 70 classes. Number of student taking both class `i` and class `j` can be found using `student[i][j]`."
   ]
  },
  {
   "cell_type": "code",
   "execution_count": null,
   "metadata": {
    "collapsed": false
   },
   "outputs": [],
   "source": [
    "nclass = 70\n",
    "student = np.random.randint(0,100,(nclass, nclass))\n",
    "\n",
    "np.random.seed(222)\n",
    "for i in range(nclass-1):\n",
    "    for j in range(i+1,nclass):\n",
    "        student[i,j] = student[j,i]\n",
    "\n",
    "for i in range(nclass):\n",
    "    student[i,i] = 0 \n",
    "    \n",
    "student[student>70] = 0\n",
    "    \n",
    "print student\n",
    "\n",
    "plt.matshow(student)"
   ]
  },
  {
   "cell_type": "code",
   "execution_count": null,
   "metadata": {
    "collapsed": true
   },
   "outputs": [],
   "source": []
  },
  {
   "cell_type": "markdown",
   "metadata": {},
   "source": [
    "### Simulated Annealing"
   ]
  },
  {
   "cell_type": "markdown",
   "metadata": {
    "collapsed": true
   },
   "source": [
    "1) What's wrong with Hill Climbing?"
   ]
  },
  {
   "cell_type": "code",
   "execution_count": null,
   "metadata": {
    "collapsed": true
   },
   "outputs": [],
   "source": []
  },
  {
   "cell_type": "markdown",
   "metadata": {},
   "source": [
    "2) What is the main idea for fixing that?"
   ]
  },
  {
   "cell_type": "code",
   "execution_count": null,
   "metadata": {
    "collapsed": true
   },
   "outputs": [],
   "source": []
  },
  {
   "cell_type": "markdown",
   "metadata": {},
   "source": [
    "3) Implement the exam scheduling again with Simulated Annealing"
   ]
  },
  {
   "cell_type": "code",
   "execution_count": null,
   "metadata": {
    "collapsed": true
   },
   "outputs": [],
   "source": []
  }
 ],
 "metadata": {
  "kernelspec": {
   "display_name": "Python 2",
   "language": "python",
   "name": "python2"
  },
  "language_info": {
   "codemirror_mode": {
    "name": "ipython",
    "version": 2
   },
   "file_extension": ".py",
   "mimetype": "text/x-python",
   "name": "python",
   "nbconvert_exporter": "python",
   "pygments_lexer": "ipython2",
   "version": "2.7.13"
  }
 },
 "nbformat": 4,
 "nbformat_minor": 0
}
