{
 "cells": [
  {
   "cell_type": "markdown",
   "metadata": {},
   "source": [
    "###Exercise 6"
   ]
  },
  {
   "cell_type": "code",
   "execution_count": 56,
   "metadata": {
    "collapsed": true
   },
   "outputs": [],
   "source": [
    "%matplotlib inline\n",
    "from matplotlib import pyplot as plt\n",
    "import numpy as np\n",
    "import math"
   ]
  },
  {
   "cell_type": "markdown",
   "metadata": {},
   "source": [
    "Fun with Numpy Slicing and Broadcast assignment."
   ]
  },
  {
   "cell_type": "markdown",
   "metadata": {},
   "source": [
    "1) Creating an array"
   ]
  },
  {
   "cell_type": "code",
   "execution_count": 57,
   "metadata": {
    "collapsed": false
   },
   "outputs": [
    {
     "name": "stdout",
     "output_type": "stream",
     "text": [
      "[[ 1.  2.]\n",
      " [ 3.  4.]\n",
      " [ 5.  6.]]\n"
     ]
    }
   ],
   "source": [
    "a = np.array([[1.,2.],[3.,4.],[5.,6.]])\n",
    "print a"
   ]
  },
  {
   "cell_type": "markdown",
   "metadata": {},
   "source": [
    "2)Getting Array shape"
   ]
  },
  {
   "cell_type": "code",
   "execution_count": 58,
   "metadata": {
    "collapsed": false
   },
   "outputs": [
    {
     "name": "stdout",
     "output_type": "stream",
     "text": [
      "(3, 2)\n",
      "3\n",
      "2\n"
     ]
    }
   ],
   "source": [
    "print a.shape\n",
    "print a.shape[0]\n",
    "print a.shape[1]"
   ]
  },
  {
   "cell_type": "markdown",
   "metadata": {},
   "source": [
    "3) Creating array of zeros"
   ]
  },
  {
   "cell_type": "code",
   "execution_count": 59,
   "metadata": {
    "collapsed": false
   },
   "outputs": [
    {
     "name": "stdout",
     "output_type": "stream",
     "text": [
      "[[ 0.  0.  0.  0.  0.]\n",
      " [ 0.  0.  0.  0.  0.]\n",
      " [ 0.  0.  0.  0.  0.]\n",
      " [ 0.  0.  0.  0.  0.]\n",
      " [ 0.  0.  0.  0.  0.]\n",
      " [ 0.  0.  0.  0.  0.]\n",
      " [ 0.  0.  0.  0.  0.]\n",
      " [ 0.  0.  0.  0.  0.]\n",
      " [ 0.  0.  0.  0.  0.]\n",
      " [ 0.  0.  0.  0.  0.]]\n",
      "(10, 5)\n"
     ]
    }
   ],
   "source": [
    "b = np.zeros((10,5))\n",
    "print b\n",
    "print b.shape"
   ]
  },
  {
   "cell_type": "markdown",
   "metadata": {},
   "source": [
    "4) Using for loop to write an array"
   ]
  },
  {
   "cell_type": "code",
   "execution_count": 60,
   "metadata": {
    "collapsed": false
   },
   "outputs": [
    {
     "name": "stdout",
     "output_type": "stream",
     "text": [
      "[[   0.    1.    2.    3.    4.]\n",
      " [  20.   21.   22.   23.   24.]\n",
      " [  40.   41.   42.   43.   44.]\n",
      " [  60.   61.   62.   63.   64.]\n",
      " [  80.   81.   82.   83.   84.]\n",
      " [ 100.  101.  102.  103.  104.]\n",
      " [ 120.  121.  122.  123.  124.]\n",
      " [ 140.  141.  142.  143.  144.]\n",
      " [ 160.  161.  162.  163.  164.]\n",
      " [ 180.  181.  182.  183.  184.]]\n"
     ]
    }
   ],
   "source": [
    "c = np.zeros((10,5)) #Note the parenthesis. The argument is a tuple.\n",
    "nrow, ncol = c.shape\n",
    "for irow in range(nrow):\n",
    "    for icol in range(ncol):\n",
    "        c[irow,icol] = 20*irow + icol\n",
    "        #you can do either c[irow][icol] or c[irow, icol]\n",
    "print c"
   ]
  },
  {
   "cell_type": "markdown",
   "metadata": {},
   "source": [
    "5) Access array."
   ]
  },
  {
   "cell_type": "code",
   "execution_count": 61,
   "metadata": {
    "collapsed": false
   },
   "outputs": [
    {
     "name": "stdout",
     "output_type": "stream",
     "text": [
      "[ 40.  41.  42.  43.  44.]\n",
      "43.0\n",
      "43.0\n"
     ]
    }
   ],
   "source": [
    "#row 2\n",
    "print c[2]\n",
    "#row 2 column 3\n",
    "print c[2][3]\n",
    "print c[2,3] #either way"
   ]
  },
  {
   "cell_type": "markdown",
   "metadata": {},
   "source": [
    "6) Array Slicing"
   ]
  },
  {
   "cell_type": "code",
   "execution_count": 62,
   "metadata": {
    "collapsed": false
   },
   "outputs": [
    {
     "name": "stdout",
     "output_type": "stream",
     "text": [
      "[ 22.  42.  62.]\n"
     ]
    }
   ],
   "source": [
    "print c[1:4,2] #first index can be from [2,4) = 2,3 (not including the end)\n",
    "         #second index has to be 2"
   ]
  },
  {
   "cell_type": "code",
   "execution_count": 63,
   "metadata": {
    "collapsed": false
   },
   "outputs": [
    {
     "name": "stdout",
     "output_type": "stream",
     "text": [
      "[ 21.  22.  23.  24.]\n"
     ]
    }
   ],
   "source": [
    "print c[1, 1:5] #first index 1, second index from [1,5) = 1,2,3,4"
   ]
  },
  {
   "cell_type": "code",
   "execution_count": 64,
   "metadata": {
    "collapsed": false
   },
   "outputs": [
    {
     "name": "stdout",
     "output_type": "stream",
     "text": [
      "[[ 22.  23.  24.]\n",
      " [ 42.  43.  44.]]\n"
     ]
    }
   ],
   "source": [
    "print c[1:3,2:5] #you can slice a rectangle from it too"
   ]
  },
  {
   "cell_type": "code",
   "execution_count": 65,
   "metadata": {
    "collapsed": false
   },
   "outputs": [
    {
     "name": "stdout",
     "output_type": "stream",
     "text": [
      "[  22.   42.   62.   82.  102.  122.  142.  162.  182.]\n"
     ]
    }
   ],
   "source": [
    "print c[1:,2] #row 1 and on, column 2"
   ]
  },
  {
   "cell_type": "code",
   "execution_count": 66,
   "metadata": {
    "collapsed": false
   },
   "outputs": [
    {
     "name": "stdout",
     "output_type": "stream",
     "text": [
      "[  2.  22.  42.]\n"
     ]
    }
   ],
   "source": [
    "print c[:3,2] #row 0,1,2 and column 2"
   ]
  },
  {
   "cell_type": "code",
   "execution_count": 67,
   "metadata": {
    "collapsed": false
   },
   "outputs": [
    {
     "name": "stdout",
     "output_type": "stream",
     "text": [
      "[[  0.   1.   2.   3.   4.]\n",
      " [ 20.  21.  22.  23.  24.]\n",
      " [ 40.  41.  42.  43.  44.]]\n"
     ]
    }
   ],
   "source": [
    "print c[:3,:] #row 0,1,2 and every column"
   ]
  },
  {
   "cell_type": "markdown",
   "metadata": {},
   "source": [
    "7) The one we normally use"
   ]
  },
  {
   "cell_type": "code",
   "execution_count": 68,
   "metadata": {
    "collapsed": false
   },
   "outputs": [
    {
     "name": "stdout",
     "output_type": "stream",
     "text": [
      "[   1.   21.   41.   61.   81.  101.  121.  141.  161.  181.]\n"
     ]
    }
   ],
   "source": [
    "print c[:,1] #First index everything (:), Second index must be 1\n",
    "             #this means getting column 1"
   ]
  },
  {
   "cell_type": "code",
   "execution_count": 69,
   "metadata": {
    "collapsed": false
   },
   "outputs": [
    {
     "name": "stdout",
     "output_type": "stream",
     "text": [
      "[ 40.  41.  42.  43.  44.]\n"
     ]
    }
   ],
   "source": [
    "print c[2,:] #First index is 2, Second index can be anything\n",
    "             #This means row number 2."
   ]
  },
  {
   "cell_type": "markdown",
   "metadata": {},
   "source": [
    "8) Reference or copy? It's reference."
   ]
  },
  {
   "cell_type": "code",
   "execution_count": 70,
   "metadata": {
    "collapsed": false
   },
   "outputs": [
    {
     "name": "stdout",
     "output_type": "stream",
     "text": [
      "[ 40.  41.  42.  43.  44.]\n",
      "[ 40.  41.   0.  43.  44.]\n",
      "[[   0.    1.    2.    3.    4.]\n",
      " [  20.   21.   22.   23.   24.]\n",
      " [  40.   41.    0.   43.   44.]\n",
      " [  60.   61.   62.   63.   64.]\n",
      " [  80.   81.   82.   83.   84.]\n",
      " [ 100.  101.  102.  103.  104.]\n",
      " [ 120.  121.  122.  123.  124.]\n",
      " [ 140.  141.  142.  143.  144.]\n",
      " [ 160.  161.  162.  163.  164.]\n",
      " [ 180.  181.  182.  183.  184.]]\n"
     ]
    }
   ],
   "source": [
    "d = c[2,:]\n",
    "print d\n",
    "d[2] = 0\n",
    "print d\n",
    "print c"
   ]
  },
  {
   "cell_type": "markdown",
   "metadata": {},
   "source": [
    "9) What if you want a copy?"
   ]
  },
  {
   "cell_type": "code",
   "execution_count": 71,
   "metadata": {
    "collapsed": true
   },
   "outputs": [],
   "source": [
    "c3 = c.copy()"
   ]
  },
  {
   "cell_type": "code",
   "execution_count": 72,
   "metadata": {
    "collapsed": false
   },
   "outputs": [
    {
     "name": "stdout",
     "output_type": "stream",
     "text": [
      "[[   0.    1.    2.    3.    4.]\n",
      " [  20.  999.   22.   23.   24.]\n",
      " [  40.   41.    0.   43.   44.]\n",
      " [  60.   61.   62.   63.   64.]\n",
      " [  80.   81.   82.   83.   84.]\n",
      " [ 100.  101.  102.  103.  104.]\n",
      " [ 120.  121.  122.  123.  124.]\n",
      " [ 140.  141.  142.  143.  144.]\n",
      " [ 160.  161.  162.  163.  164.]\n",
      " [ 180.  181.  182.  183.  184.]]\n",
      "[[   0.    1.    2.    3.    4.]\n",
      " [  20.   21.   22.   23.   24.]\n",
      " [  40.   41.    0.   43.   44.]\n",
      " [  60.   61.   62.   63.   64.]\n",
      " [  80.   81.   82.   83.   84.]\n",
      " [ 100.  101.  102.  103.  104.]\n",
      " [ 120.  121.  122.  123.  124.]\n",
      " [ 140.  141.  142.  143.  144.]\n",
      " [ 160.  161.  162.  163.  164.]\n",
      " [ 180.  181.  182.  183.  184.]]\n"
     ]
    }
   ],
   "source": [
    "c3[1,1] = 999\n",
    "print c3\n",
    "print c"
   ]
  },
  {
   "cell_type": "markdown",
   "metadata": {},
   "source": [
    "10) Refrence is actually the right choice of implementation. It allows you to do this broadcast assignment."
   ]
  },
  {
   "cell_type": "code",
   "execution_count": 73,
   "metadata": {
    "collapsed": false
   },
   "outputs": [
    {
     "name": "stdout",
     "output_type": "stream",
     "text": [
      "[[   0.    1.    2.    3.    4.]\n",
      " [  20.   21.   22.   23.   24.]\n",
      " [  40.   41.    0.   43.   44.]\n",
      " [  60.   61.   62.   63.   64.]\n",
      " [  80.   81.   82.   83.   84.]\n",
      " [ 100.  101.  102.  103.  104.]\n",
      " [ 120.  121.  122.  123.  124.]\n",
      " [   1.    1.    1.    1.    1.]\n",
      " [ 160.  161.  162.  163.  164.]\n",
      " [ 180.  181.  182.  183.  184.]]\n"
     ]
    }
   ],
   "source": [
    "c[7,:] = 1 #all row 7 or c becomes 1\n",
    "print c"
   ]
  },
  {
   "cell_type": "code",
   "execution_count": 74,
   "metadata": {
    "collapsed": false
   },
   "outputs": [
    {
     "name": "stdout",
     "output_type": "stream",
     "text": [
      "[[   0.    1.    2.    3.    4.]\n",
      " [  20.   21.   22.   23.   24.]\n",
      " [ 160.  162.  164.  166.  168.]\n",
      " [  60.   61.   62.   63.   64.]\n",
      " [  80.   81.   82.   83.   84.]\n",
      " [ 100.  101.  102.  103.  104.]\n",
      " [ 120.  121.  122.  123.  124.]\n",
      " [   1.    1.    1.    1.    1.]\n",
      " [ 160.  161.  162.  163.  164.]\n",
      " [ 180.  181.  182.  183.  184.]]\n"
     ]
    }
   ],
   "source": [
    "#you can do this too\n",
    "c[2,:] = c[3,:] + c[5,:]\n",
    "print c"
   ]
  },
  {
   "cell_type": "code",
   "execution_count": 75,
   "metadata": {
    "collapsed": false
   },
   "outputs": [
    {
     "name": "stdout",
     "output_type": "stream",
     "text": [
      "[[   0.    2.    2.    3.    4.]\n",
      " [  20.   42.   22.   23.   24.]\n",
      " [ 160.  324.  164.  166.  168.]\n",
      " [  60.  122.   62.   63.   64.]\n",
      " [  80.  162.   82.   83.   84.]\n",
      " [ 100.  202.  102.  103.  104.]\n",
      " [ 120.  242.  122.  123.  124.]\n",
      " [   1.    2.    1.    1.    1.]\n",
      " [ 160.  322.  162.  163.  164.]\n",
      " [ 180.  362.  182.  183.  184.]]\n"
     ]
    }
   ],
   "source": [
    "c[:,1] = c[:,1]*2 #column 1 all multiply by 2\n",
    "print c"
   ]
  },
  {
   "cell_type": "markdown",
   "metadata": {},
   "source": [
    "###Gaussian Elimination."
   ]
  },
  {
   "cell_type": "markdown",
   "metadata": {},
   "source": [
    "See the notes. That's your homework."
   ]
  },
  {
   "cell_type": "markdown",
   "metadata": {},
   "source": [
    "###System of Non-Linear Equations.\n",
    "\n",
    "Consider\n",
    "$$x^2 + xy = 10$$\n",
    "$$y + 3 xy^2 = 57$$"
   ]
  },
  {
   "cell_type": "markdown",
   "metadata": {},
   "source": [
    "1) Write it in the form of\n",
    "$$u(x,y) = 0$$\n",
    "$$v(x,y) = 0$$"
   ]
  },
  {
   "cell_type": "code",
   "execution_count": 76,
   "metadata": {
    "collapsed": true
   },
   "outputs": [],
   "source": [
    "def u(x,y):\n",
    "    \n",
    "    return x**2 + x*y - 10\n",
    "\n",
    "def v(x,y):\n",
    "    return y + 3*x*y**2 - 57"
   ]
  },
  {
   "cell_type": "markdown",
   "metadata": {},
   "source": [
    "2) Let us visualize it by making 3d plot. Despite looking really cool it doesn't tell much."
   ]
  },
  {
   "cell_type": "code",
   "execution_count": 1,
   "metadata": {
    "collapsed": false
   },
   "outputs": [
    {
     "ename": "NameError",
     "evalue": "name 'np' is not defined",
     "output_type": "error",
     "traceback": [
      "\u001b[0;31m---------------------------------------------------------------------------\u001b[0m",
      "\u001b[0;31mNameError\u001b[0m                                 Traceback (most recent call last)",
      "\u001b[0;32m<ipython-input-1-476ac1516f94>\u001b[0m in \u001b[0;36m<module>\u001b[0;34m()\u001b[0m\n\u001b[1;32m      4\u001b[0m \u001b[0mnx\u001b[0m \u001b[0;34m=\u001b[0m \u001b[0;36m200\u001b[0m\u001b[0;34m\u001b[0m\u001b[0m\n\u001b[1;32m      5\u001b[0m \u001b[0mny\u001b[0m \u001b[0;34m=\u001b[0m \u001b[0;36m200\u001b[0m\u001b[0;34m\u001b[0m\u001b[0m\n\u001b[0;32m----> 6\u001b[0;31m \u001b[0mx\u001b[0m \u001b[0;34m=\u001b[0m \u001b[0mnp\u001b[0m\u001b[0;34m.\u001b[0m\u001b[0mlinspace\u001b[0m\u001b[0;34m(\u001b[0m\u001b[0;34m-\u001b[0m\u001b[0;36m20\u001b[0m\u001b[0;34m,\u001b[0m\u001b[0;36m20\u001b[0m\u001b[0;34m,\u001b[0m\u001b[0mnx\u001b[0m\u001b[0;34m)\u001b[0m\u001b[0;34m\u001b[0m\u001b[0m\n\u001b[0m\u001b[1;32m      7\u001b[0m \u001b[0my\u001b[0m \u001b[0;34m=\u001b[0m \u001b[0mnp\u001b[0m\u001b[0;34m.\u001b[0m\u001b[0mlinspace\u001b[0m\u001b[0;34m(\u001b[0m\u001b[0;34m-\u001b[0m\u001b[0;36m20\u001b[0m\u001b[0;34m,\u001b[0m\u001b[0;36m20\u001b[0m\u001b[0;34m,\u001b[0m\u001b[0mny\u001b[0m\u001b[0;34m)\u001b[0m\u001b[0;34m\u001b[0m\u001b[0m\n\u001b[1;32m      8\u001b[0m \u001b[0mxgrid\u001b[0m\u001b[0;34m,\u001b[0m \u001b[0mygrid\u001b[0m \u001b[0;34m=\u001b[0m \u001b[0mnp\u001b[0m\u001b[0;34m.\u001b[0m\u001b[0mmeshgrid\u001b[0m\u001b[0;34m(\u001b[0m\u001b[0mx\u001b[0m\u001b[0;34m,\u001b[0m \u001b[0my\u001b[0m\u001b[0;34m)\u001b[0m\u001b[0;34m\u001b[0m\u001b[0m\n",
      "\u001b[0;31mNameError\u001b[0m: name 'np' is not defined"
     ]
    }
   ],
   "source": [
    "from mpl_toolkits.mplot3d import Axes3D\n",
    "from matplotlib import cm\n",
    "#see matplotlib3d surface\n",
    "nx = 200\n",
    "ny = 200\n",
    "x = np.linspace(-20,20,nx)\n",
    "y = np.linspace(-20,20,ny)\n",
    "xgrid, ygrid = np.meshgrid(x, y)\n",
    "#print ygrid\n",
    "uz = np.zeros((nx,ny))\n",
    "vz = np.zeros((nx,ny))\n",
    "for ix in range(nx):\n",
    "    for iy in range(ny):\n",
    "        xx = x[ix]\n",
    "        yy = y[iy]\n",
    "        uz[iy,ix] = u(xx,yy) ##<<<<<<This is not a typo: [iy,ix]\n",
    "        vz[iy,ix] = v(xx,yy) ##<<<<<<And this too.   \n",
    "\n",
    "fig = plt.figure()\n",
    "ax = fig.add_subplot(111, projection='3d')\n",
    "ucs = ax.plot_surface(xgrid, ygrid, uz, cmap=cm.coolwarm)\n",
    "plt.title('u(x,y)')\n",
    "\n",
    "fig = plt.figure()\n",
    "ax = fig.add_subplot(111, projection='3d')        \n",
    "ucs = ax.plot_surface(xgrid, ygrid, vz, cmap=cm.coolwarm)\n",
    "plt.title('v(x,y)')"
   ]
  },
  {
   "cell_type": "markdown",
   "metadata": {},
   "source": [
    "3) Contour plot."
   ]
  },
  {
   "cell_type": "code",
   "execution_count": 78,
   "metadata": {
    "collapsed": false,
    "scrolled": false
   },
   "outputs": [
    {
     "data": {
      "image/png": "[encoded data removed]",
      "text/plain": [
       "<matplotlib.figure.Figure at 0x109e2b410>"
      ]
     },
     "metadata": {},
     "output_type": "display_data"
    },
    {
     "data": {
      "image/png": "[encoded data removed]",
      "text/plain": [
       "<matplotlib.figure.Figure at 0x1157c59d0>"
      ]
     },
     "metadata": {},
     "output_type": "display_data"
    }
   ],
   "source": [
    "#see http://matplotlib.org/examples/pylab_examples/contour_demo.html\n",
    "nx = 100\n",
    "ny = 100\n",
    "x = np.linspace(-20,20,nx)\n",
    "y = np.linspace(-20,20,ny)\n",
    "xgrid, ygrid = np.meshgrid(x, y)\n",
    "#print ygrid\n",
    "uz = np.zeros((nx,ny))\n",
    "vz = np.zeros((nx,ny))\n",
    "for ix in range(nx):\n",
    "    for iy in range(ny):\n",
    "        xx = x[ix]\n",
    "        yy = y[iy]\n",
    "        uz[iy,ix] = u(xx,yy) ##<<<<<<This is not a typo: [iy,ix]\n",
    "        vz[iy,ix] = v(xx,yy)\n",
    " \n",
    "\n",
    "ucs = plt.contour(x, y, uz, colors=('b','r','g'))\n",
    "plt.clabel(ucs, inline=1, fontsize=10)\n",
    "plt.grid()\n",
    "plt.title('u(x,y)')\n",
    "\n",
    "plt.figure()\n",
    "vcs = plt.contour(x, y, vz, colors=('b','r','g'))\n",
    "plt.clabel(vcs, inline=1, fontsize=10,)\n",
    "plt.title('v(x,y)')\n",
    "plt.grid()"
   ]
  },
  {
   "cell_type": "markdown",
   "metadata": {},
   "source": [
    "3) Which lines are we interested in?"
   ]
  },
  {
   "cell_type": "code",
   "execution_count": null,
   "metadata": {
    "collapsed": true
   },
   "outputs": [],
   "source": []
  },
  {
   "cell_type": "markdown",
   "metadata": {},
   "source": [
    "4)Let's overlay them on top of each other."
   ]
  },
  {
   "cell_type": "code",
   "execution_count": 138,
   "metadata": {
    "collapsed": false
   },
   "outputs": [
    {
     "data": {
      "image/png": "[encoded data removed]",
      "text/plain": [
       "<matplotlib.figure.Figure at 0x1111527d0>"
      ]
     },
     "metadata": {},
     "output_type": "display_data"
    }
   ],
   "source": [
    "#see http://matplotlib.org/examples/pylab_examples/contour_demo.html\n",
    "nx = 200\n",
    "ny = 200\n",
    "x = np.linspace(-20,20,nx)\n",
    "y = np.linspace(-20,20,ny)\n",
    "xgrid, ygrid = np.meshgrid(x, y)\n",
    "#print ygrid\n",
    "uz = np.zeros((nx,ny))\n",
    "vz = np.zeros((nx,ny))\n",
    "for ix in range(nx):\n",
    "    for iy in range(ny):\n",
    "        xx = x[ix]\n",
    "        yy = y[iy]\n",
    "        uz[iy,ix] = u(xx,yy) ##<<<<<<This is not a typo: [iy,ix]\n",
    "        vz[iy,ix] = v(xx,yy)\n",
    "\n",
    "\n",
    "ucs = plt.contour(x, y, uz, colors=('r'))\n",
    "plt.clabel(ucs, inline=1, fontsize=10)\n",
    "vcs = plt.contour(x, y, vz, colors=('b'))\n",
    "plt.clabel(vcs, inline=1, fontsize=10)\n",
    "plt.grid()"
   ]
  },
  {
   "cell_type": "code",
   "execution_count": 80,
   "metadata": {
    "collapsed": true
   },
   "outputs": [],
   "source": [
    "#Newtons method 2d\n",
    "#we need taylor series for first order derivative in 2d\n",
    "#f(x,y) = f(x_o,y_o) + df| (x - x_o) + df/dy | (y- y_o) + ...\n",
    "#we want 0 = u(x_r,y_r) = u(x_0,y_0) + u,_x(x_0,y_0)(x_r - x) + u,_y (x_0,y_0)(y_r - y_)\n",
    "\n",
    "#and 0 = v(x_r,y_r) = v(x_0,y_0) + v,_x(x_0,y_0)(x_r - x) + v,_y (x_0,y_0)(y_r - y_)\n"
   ]
  },
  {
   "cell_type": "markdown",
   "metadata": {},
   "source": [
    "5) Where (approximately) are the solutions to $u(x,y)=0$ and $v(x,y)=0$"
   ]
  },
  {
   "cell_type": "code",
   "execution_count": 81,
   "metadata": {
    "collapsed": true
   },
   "outputs": [],
   "source": [
    "#u(x,y) = 0, point x and y : u(2,2.5)\n",
    "#v(x,y) = 0 point x and y : u(-2.5,4) \n"
   ]
  },
  {
   "cell_type": "markdown",
   "metadata": {
    "collapsed": true
   },
   "source": [
    "###Newton's Method (>1D)"
   ]
  },
  {
   "cell_type": "markdown",
   "metadata": {},
   "source": [
    "1) What matrix equation you need to solve to find the next guess ($x_{n+1}, y_{n+1}$)?"
   ]
  },
  {
   "cell_type": "code",
   "execution_count": 90,
   "metadata": {
    "collapsed": true
   },
   "outputs": [],
   "source": [
    "def u(x,y):\n",
    "    return x**2 + x*y - 10\n",
    "def v(x,y):\n",
    "    return y + 3*x*y**2 - 57\n",
    "def ux(x,y ):\n",
    "    return 2*x + y\n",
    "def uy(x,y ):\n",
    "    return x\n",
    "def vx(x,y):\n",
    "    return 3*y**2\n",
    "def vy(x,y):\n",
    "    return 1 + 3*x*2*y"
   ]
  },
  {
   "cell_type": "markdown",
   "metadata": {},
   "source": [
    "2)Where should you start your guess ($x_0, y_0$)?"
   ]
  },
  {
   "cell_type": "code",
   "execution_count": 112,
   "metadata": {
    "collapsed": false
   },
   "outputs": [],
   "source": [
    "x = 2\n",
    "y = 2.5"
   ]
  },
  {
   "cell_type": "markdown",
   "metadata": {},
   "source": [
    "3) Find ($x_1, y_1$)"
   ]
  },
  {
   "cell_type": "code",
   "execution_count": 143,
   "metadata": {
    "collapsed": false
   },
   "outputs": [
    {
     "data": {
      "text/plain": [
       "(2.0352112676056335, 1.7535211267605635)"
      ]
     },
     "execution_count": 143,
     "metadata": {},
     "output_type": "execute_result"
    }
   ],
   "source": [
    "def solve(x,y):\n",
    "    A = np.array([[ux(x,y), uy(x,y)],\n",
    "        [vx(x,y), vy(x,y)]])\n",
    "    B = np.array([-u(x,y) + ux(x,y)*x + uy(x,y)*y , -v(x,y) + vx(x,y)*x + vy(x,y)*y ])\n",
    "    \n",
    "    return np.linalg.solve(A,B)\n",
    "\n",
    "def loopSolve(x,y,n):\n",
    "    for i in range(n):\n",
    "        x,y = solve(x,y)\n",
    "    return x,y\n",
    "loopSolve(1,5,1)\n",
    "        "
   ]
  },
  {
   "cell_type": "markdown",
   "metadata": {},
   "source": [
    "4)Find ($x_2, y_2$)"
   ]
  },
  {
   "cell_type": "code",
   "execution_count": 150,
   "metadata": {
    "collapsed": false
   },
   "outputs": [
    {
     "data": {
      "text/plain": [
       "(1.8300872537966451, 3.4652647165467307)"
      ]
     },
     "execution_count": 150,
     "metadata": {},
     "output_type": "execute_result"
    }
   ],
   "source": [
    "def loopSolve(x,y,n):\n",
    "    for i in range(n):\n",
    "        x,y = solve(x,y)\n",
    "    return x,y\n",
    "loopSolve(1,5,2)\n",
    "        "
   ]
  },
  {
   "cell_type": "markdown",
   "metadata": {},
   "source": [
    "5)Write a program to do what you just did and find  $(x_5, y_5)$? Plot to verify. (Just at plt.plot([x],[y])). You may use np.linalg.solve."
   ]
  },
  {
   "cell_type": "code",
   "execution_count": 154,
   "metadata": {
    "collapsed": false
   },
   "outputs": [
    {
     "data": {
      "text/plain": [
       "(2.0000000000060112, 3.0000000000208669)"
      ]
     },
     "execution_count": 154,
     "metadata": {},
     "output_type": "execute_result"
    }
   ],
   "source": [
    "def loopSolve(x,y,n):\n",
    "    for i in range(n):\n",
    "        x,y = solve(x,y)\n",
    "    return x,y\n",
    "loopSolve(1,5,5)"
   ]
  },
  {
   "cell_type": "markdown",
   "metadata": {},
   "source": [
    "6) Find the other solution."
   ]
  },
  {
   "cell_type": "code",
   "execution_count": 160,
   "metadata": {
    "collapsed": false
   },
   "outputs": [
    {
     "data": {
      "text/plain": [
       "(4.3937441932885992, -2.1177810147141836)"
      ]
     },
     "execution_count": 160,
     "metadata": {},
     "output_type": "execute_result"
    }
   ],
   "source": [
    "def loopSolve(x,y,n):\n",
    "    for i in range(n):\n",
    "        x,y = solve(x,y)\n",
    "    return x,y\n",
    "loopSolve(3,-4,10)"
   ]
  },
  {
   "cell_type": "markdown",
   "metadata": {},
   "source": [
    "7) Does it guarantee to converge to the right answer?"
   ]
  },
  {
   "cell_type": "code",
   "execution_count": null,
   "metadata": {
    "collapsed": true
   },
   "outputs": [],
   "source": [
    "#nah, if your guess is too far off it won't"
   ]
  },
  {
   "cell_type": "markdown",
   "metadata": {},
   "source": [
    "8) Implement np.linalg.solve using gaussian elimination."
   ]
  },
  {
   "cell_type": "code",
   "execution_count": null,
   "metadata": {
    "collapsed": true
   },
   "outputs": [],
   "source": []
  }
 ],
 "metadata": {
  "kernelspec": {
   "display_name": "Python 2",
   "language": "python",
   "name": "python2"
  },
  "language_info": {
   "codemirror_mode": {
    "name": "ipython",
    "version": 2
   },
   "file_extension": ".py",
   "mimetype": "text/x-python",
   "name": "python",
   "nbconvert_exporter": "python",
   "pygments_lexer": "ipython2",
   "version": "2.7.13"
  }
 },
 "nbformat": 4,
 "nbformat_minor": 0
}
