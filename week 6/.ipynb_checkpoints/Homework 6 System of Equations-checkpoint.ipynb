{
 "cells": [
  {
   "cell_type": "code",
   "execution_count": 3,
   "metadata": {
    "collapsed": true
   },
   "outputs": [],
   "source": [
    "import numpy as np\n",
    "from matplotlib import pyplot as plt\n",
    "import math"
   ]
  },
  {
   "cell_type": "markdown",
   "metadata": {},
   "source": [
    "####1) Gaussian Elimination\n",
    "\n",
    "Implement Gaussian Elimination and solve this equation. Your function should look like `solve(A, B)`.  Make sure your code works for arbitary size of square matrix A.\n",
    "\n",
    "$$A x= B$$\n",
    "\n",
    "Let me warn you that despite knowing exactly what to do, this is a debugging nightmare. Try your program on small matrix like $2\\times2$ and $3\\times3$ matrix first. Make sure you get forward elimination working first then try backward substitution. You may also find numpy slicing and broadcast operations in exercise useful.\n",
    "\n",
    "Challenge: I recall that Jay(our alumni) wrote this in $<5$ lines using comprehension. Do this **only if** you finish the long version and do not forget to submit the long version.\n",
    "\n",
    "This is something you should do it once in your life. Then for the rest of your life use `np.linalg.solve` or some library if you need to solve system of linear equations."
   ]
  },
  {
   "cell_type": "code",
   "execution_count": 4,
   "metadata": {
    "collapsed": false
   },
   "outputs": [],
   "source": [
    "A = np.array([[-0.07720066,  1.24180298, -1.70285456, -1.59426978, -3.01504378,\n",
    "        -0.01902549, -0.03201064, -0.48214818, -1.27554107, -1.86678803],\n",
    "       [-1.31026178, -0.2971768 ,  1.33060751, -1.18923338,  1.26796178,\n",
    "         1.00551987,  0.00766911, -1.31224212, -0.50902706,  1.08833534],\n",
    "       [ 0.00514475,  0.1884909 , -0.4100754 ,  0.50341764,  0.58709926,\n",
    "        -0.37333076,  1.2869738 ,  0.05395632, -0.46286786, -0.76367185],\n",
    "       [ 0.40365969, -1.96291233, -0.50175568,  0.18142524, -0.67746751,\n",
    "         0.67076161, -0.95049002,  2.74931199, -1.13015379,  0.27785431],\n",
    "       [-0.09189647, -0.39525972,  0.37683505, -0.96245216, -0.5243782 ,\n",
    "         0.29585765,  0.36129507,  0.29181967,  1.7310231 ,  0.7081621 ],\n",
    "       [ 0.51380985, -0.30144819, -0.90054149,  0.0070792 ,  1.49102295,\n",
    "        -0.74968201, -2.10741739,  0.42250329, -0.77394164, -0.70696497],\n",
    "       [ 0.81974365, -0.35722291,  0.65875384, -2.13288612, -0.38778701,\n",
    "         0.01710055,  1.2020558 , -1.16650793,  0.64024404, -0.78791643],\n",
    "       [-1.7032489 , -0.22689565,  1.25694671, -0.1527868 ,  1.40786095,\n",
    "         0.81767256, -0.85561595,  0.70192948, -0.67892646,  0.62788067],\n",
    "       [ 1.6163143 ,  0.10904024,  0.172866  ,  2.07392891,  0.9166984 ,\n",
    "         0.72032333, -0.61654133,  0.3757916 ,  0.330539  ,  0.84006191],\n",
    "       [-0.81789953, -0.84657951, -1.55897657, -0.46275441,  0.05571126,\n",
    "        -2.07063125, -0.32495521, -0.79838269, -0.02436165,  0.6087792 ]])\n",
    "\n",
    "B = np.array([ 0.44856869, -0.24446046, -0.41493562,  0.20844983,  0.58973061,\n",
    "        0.3997515 , -1.21156859,  1.67593083, -1.41259173,  1.76241789])"
   ]
  },
  {
   "cell_type": "code",
   "execution_count": 5,
   "metadata": {
    "collapsed": false
   },
   "outputs": [],
   "source": [
    "def forward(A,B):\n",
    "    newA = A.copy()\n",
    "    newB = B.copy()\n",
    "    nrow,ncol = A.shape\n",
    "    for pivot_row in range(nrow-1):\n",
    "        for elim_row in range(pivot_row +1, nrow):\n",
    "            if (pivot_row != elim_row and pivot_row < elim_row):\n",
    "                c = A[elim_row,pivot_row]/float(A[pivot_row,pivot_row])\n",
    "                A[elim_row] -= c*A[pivot_row]\n",
    "                B[elim_row] -= c*B[pivot_row]\n",
    "    return A,B\n",
    "\n",
    "\n",
    "def backward(A,B):\n",
    "    newA = A.copy()\n",
    "    newB = B.copy()\n",
    "    nrow,ncol = A.shape\n",
    "    for pivot_row in range(nrow):\n",
    "        for elim_row in range(nrow):\n",
    "            if (pivot_row != elim_row and elim_row < pivot_row):\n",
    "                c = A[elim_row,pivot_row]/float(A[pivot_row,pivot_row])\n",
    "                A[elim_row] -= c*A[pivot_row]\n",
    "                B[elim_row] -= c*B[pivot_row]\n",
    "    return A,B\n",
    "\n",
    "\n",
    "def solveForVariables(A,B):\n",
    "    ans = []\n",
    "    for i in range(len(A)):\n",
    "        ans.append(B[i]/A[i][i])\n",
    "    return ans\n",
    "        \n",
    "def solve(A,B):\n",
    "    nA,nB = forward(A,B)\n",
    "    n2A,n2B= backward(nA,nB)\n",
    "    ans = solveForVariables(n2A,n2B)\n",
    "    return ans\n"
   ]
  },
  {
   "cell_type": "code",
   "execution_count": 6,
   "metadata": {
    "collapsed": false
   },
   "outputs": [
    {
     "name": "stdout",
     "output_type": "stream",
     "text": [
      "[2.2804947157711046, 5.7671641374882547, 1.1963671392243267, -3.840739029107533, 0.71087621928146294, -4.3287014991183481, 1.1376096851483455, 4.2479635143208991, -2.8248012719470581, 5.3999764734548048]\n"
     ]
    },
    {
     "data": {
      "text/plain": [
       "array([ 2.28049472,  5.76716414,  1.19636714, -3.84073903,  0.71087622,\n",
       "       -4.3287015 ,  1.13760969,  4.24796351, -2.82480127,  5.39997647])"
      ]
     },
     "execution_count": 6,
     "metadata": {},
     "output_type": "execute_result"
    }
   ],
   "source": [
    "print solve(A,B)\n",
    "np.linalg.solve(A,B)\n"
   ]
  },
  {
   "cell_type": "markdown",
   "metadata": {},
   "source": [
    "####2) Finding Inverse.\n",
    "\n",
    "The question is long but the answer is doesn't require much code if you know what to do.\n",
    "\n",
    "Gaussian Elimination can actually be used to find inverse matrix. Inverse matrix of matrix $A$ is denoted by $A^{-1}$ and it as the property that\n",
    "$$A \\times A^{-1} = I$$\n",
    "where $I$ is an identity matrix.\n",
    "\n",
    "For example, Let\n",
    "\n",
    "$$ A = \\begin{bmatrix}\n",
    "    -1 & 0 & 2 \\\\\n",
    "    0 & 5 & 1 \\\\\n",
    "    1 & 0 & -1\n",
    "    \\end{bmatrix}\n",
    "$$\n",
    "\n",
    "Then,\n",
    "\n",
    "$$\n",
    "    A^{-1} = \\begin{bmatrix}\n",
    "    1 & 0 & 2\\\\\n",
    "    -0.2 & 0.2 & -0.2\\\\\n",
    "    1 & 0 & 1\n",
    "    \\end{bmatrix}\n",
    "$$"
   ]
  },
  {
   "cell_type": "code",
   "execution_count": 7,
   "metadata": {
    "collapsed": false
   },
   "outputs": [
    {
     "name": "stdout",
     "output_type": "stream",
     "text": [
      "[[-1.  0.  2.]\n",
      " [ 0.  5.  1.]\n",
      " [ 1.  0. -1.]]\n",
      "[[ 1.   0.   2. ]\n",
      " [-0.2  0.2 -0.2]\n",
      " [ 1.   0.   1. ]]\n",
      "[[ 1.  0.  0.]\n",
      " [ 0.  1.  0.]\n",
      " [ 0.  0.  1.]]\n",
      "[[ 1.  0.  0.]\n",
      " [ 0.  1.  0.]\n",
      " [ 0.  0.  1.]]\n"
     ]
    }
   ],
   "source": [
    "A=np.array([[-1.,0,2],[0,5,1],[1,0,-1]])\n",
    "print A\n",
    "Ainv = np.array([[1,0,2],[-0.2,0.2,-0.2],[1,0,1]])\n",
    "print Ainv\n",
    "prod1 = np.dot(A, Ainv) #that's how you do matrix multiplication in numpy\n",
    "print prod1\n",
    "prod2 = np.dot(Ainv, A)\n",
    "print prod2"
   ]
  },
  {
   "cell_type": "markdown",
   "metadata": {},
   "source": [
    "Solving for inverse is the same as finding matrix $B$ such that\n",
    "$$ A \\times B = I$$\n",
    "\n",
    "If you were given a good education in basic math class, you may have noticed that finding an inverse is actually the same as solving equations.\n",
    "Let us consider the first column of the identity matrix.\n",
    "\n",
    "$$\n",
    "\\begin{bmatrix}\n",
    "1 \\\\ 0 \\\\ 0\n",
    "\\end{bmatrix}\n",
    "$$\n",
    "\n",
    "This column is obtained by the first column of the matrix $B$ with $A$ \n",
    "\n",
    "$$\\begin{bmatrix}\n",
    "    -1 & 0 & 2 \\\\\n",
    "    0 & 5 & 1 \\\\\n",
    "    1 & 0 & -1\n",
    "    \\end{bmatrix}\n",
    "    \\times\n",
    "\\begin{bmatrix}\n",
    "    \\color{red}{b_{1,1}} & b_{1,2} & b_{1,3} \\\\\n",
    "    \\color{red}{b_{2,1}} & b_{2,2} & b_{2,3} \\\\\n",
    "    \\color{red}{b_{3,1}} & b_{3,2} & b_{3,3}\n",
    "    \\end{bmatrix}  \n",
    "    =\n",
    "    \\begin{bmatrix}\n",
    "    \\color{red}{1} & 0 & 0 \\\\\n",
    "    \\color{red}{0} & 1 & 0 \\\\\n",
    "    \\color{red}{0} & 0 & 1\n",
    "    \\end{bmatrix}\n",
    "$$\n",
    "\n",
    "Ignoring all the $b$'s that does not contribute to the first column of identity matrix we have the problem of\n",
    "$$\\begin{bmatrix}\n",
    "    -1 & 0 & 2 \\\\\n",
    "    0 & 5 & 1 \\\\\n",
    "    1 & 0 & -1\n",
    "    \\end{bmatrix}\n",
    "    \\times\n",
    "\\begin{bmatrix}\n",
    "    \\color{red}{b_{1,1}} \\\\\n",
    "    \\color{red}{b_{2,1}} \\\\\n",
    "    \\color{red}{b_{3,1}}\n",
    "    \\end{bmatrix}  \n",
    "    =\n",
    "    \\begin{bmatrix}\n",
    "    \\color{red}{1} \\\\\n",
    "    \\color{red}{0}  \\\\\n",
    "    \\color{red}{0} \n",
    "    \\end{bmatrix}\n",
    "$$\n",
    "which is something we know how to solve. Solving this equation will give us the first column of $B$. The same logic can be applied to other columns and figure out the rest of $b$.\n",
    "\n",
    "There are two ways to write this. First, inefficient way of solving the same equation over and over. Second, modify what we did in problem 1) instead of having $c$ as column matrix you have $c$ as an $n\\times n$ matrix. Any of the two implementations will receive full credit.\n",
    "\n",
    "Do the inefficient one and finish the rest of the homework first. This can be done in less than 10 lines. If you have time, I encourage you to do it efficiently.\n",
    "\n",
    "Hint: check your answer against `np.linalg.inv`\n",
    "\n",
    "Hint2: You may find broadcast assignment you learned in exercise useful."
   ]
  },
  {
   "cell_type": "markdown",
   "metadata": {},
   "source": [
    "####Your task for problem 2)\n",
    "Implement a function that find an inverse of an $n\\times n$ matrix. Then find the inverse of matrix $A$ given below. You code should work with all size of $n$.\n",
    "\n",
    "This is something you should do it once in your life. Then for the rest of your life use `np.linalg.inv` or some library if you need to find and inverse."
   ]
  },
  {
   "cell_type": "code",
   "execution_count": 8,
   "metadata": {
    "collapsed": false
   },
   "outputs": [],
   "source": [
    "A = np.array([[-0.07720066,  1.24180298, -1.70285456, -1.59426978, -3.01504378,\n",
    "        -0.01902549, -0.03201064, -0.48214818, -1.27554107, -1.86678803],\n",
    "       [-1.31026178, -0.2971768 ,  1.33060751, -1.18923338,  1.26796178,\n",
    "         1.00551987,  0.00766911, -1.31224212, -0.50902706,  1.08833534],\n",
    "       [ 0.00514475,  0.1884909 , -0.4100754 ,  0.50341764,  0.58709926,\n",
    "        -0.37333076,  1.2869738 ,  0.05395632, -0.46286786, -0.76367185],\n",
    "       [ 0.40365969, -1.96291233, -0.50175568,  0.18142524, -0.67746751,\n",
    "         0.67076161, -0.95049002,  2.74931199, -1.13015379,  0.27785431],\n",
    "       [-0.09189647, -0.39525972,  0.37683505, -0.96245216, -0.5243782 ,\n",
    "         0.29585765,  0.36129507,  0.29181967,  1.7310231 ,  0.7081621 ],\n",
    "       [ 0.51380985, -0.30144819, -0.90054149,  0.0070792 ,  1.49102295,\n",
    "        -0.74968201, -2.10741739,  0.42250329, -0.77394164, -0.70696497],\n",
    "       [ 0.81974365, -0.35722291,  0.65875384, -2.13288612, -0.38778701,\n",
    "         0.01710055,  1.2020558 , -1.16650793,  0.64024404, -0.78791643],\n",
    "       [-1.7032489 , -0.22689565,  1.25694671, -0.1527868 ,  1.40786095,\n",
    "         0.81767256, -0.85561595,  0.70192948, -0.67892646,  0.62788067],\n",
    "       [ 1.6163143 ,  0.10904024,  0.172866  ,  2.07392891,  0.9166984 ,\n",
    "         0.72032333, -0.61654133,  0.3757916 ,  0.330539  ,  0.84006191],\n",
    "       [-0.81789953, -0.84657951, -1.55897657, -0.46275441,  0.05571126,\n",
    "        -2.07063125, -0.32495521, -0.79838269, -0.02436165,  0.6087792 ]])"
   ]
  },
  {
   "cell_type": "code",
   "execution_count": 9,
   "metadata": {
    "collapsed": false
   },
   "outputs": [
    {
     "name": "stdout",
     "output_type": "stream",
     "text": [
      "[ 0.19161507 -1.12156699 -0.46216366 -0.17295685 -0.65892957 -0.68653192\n",
      "  1.23869278  1.75752925  0.87511428  0.64399971]\n",
      "[ 0.19161507 -1.12156699 -0.46216366 -0.17295685 -0.65892957 -0.68653192\n",
      "  1.23869278  1.75752925  0.87511428  0.64399971]\n"
     ]
    }
   ],
   "source": [
    "mat = []\n",
    "\n",
    "def inverse(matrix):\n",
    "    C = np.zeros(matrix.shape)\n",
    "    rows,cols = matrix.shape\n",
    "    B = []\n",
    "    for i in xrange(rows):\n",
    "        C[i, i] = 1.\n",
    "    return np.linalg.solve(A,C)\n",
    "\n",
    "print inverse(A)[2]\n",
    "print np.linalg.inv(A)[2]\n"
   ]
  },
  {
   "cell_type": "markdown",
   "metadata": {},
   "source": [
    "####3) Non linear equation I.\n",
    "Consider these equations.\n",
    "$$e^{\\frac{x-3}{2}} + 2y = 1$$\n",
    "$$x^2 + xy = 3$$"
   ]
  },
  {
   "cell_type": "markdown",
   "metadata": {},
   "source": [
    "####3.1) Draw Contour plot similar to the exercise that shows where the solutions are(There are three)."
   ]
  },
  {
   "cell_type": "code",
   "execution_count": 10,
   "metadata": {
    "collapsed": false
   },
   "outputs": [
    {
     "data": {
      "image/png": "[encoded data removed]",
      "text/plain": [
       "<matplotlib.figure.Figure at 0x110b36110>"
      ]
     },
     "metadata": {},
     "output_type": "display_data"
    }
   ],
   "source": [
    "from mpl_toolkits.mplot3d import Axes3D\n",
    "from matplotlib import cm\n",
    "def u(x,y):\n",
    "    return np.exp((x-3)/2) + 2*y - 1\n",
    "\n",
    "def v(x,y):\n",
    "    return x**2 + x*y - 3\n",
    "\n",
    "nx = 200\n",
    "ny = 200\n",
    "x = np.linspace(-20,20,nx)\n",
    "y = np.linspace(-20,20,ny)\n",
    "xgrid, ygrid = np.meshgrid(x, y)\n",
    "#print ygrid\n",
    "uz = np.zeros((nx,ny))\n",
    "vz = np.zeros((nx,ny))\n",
    "for ix in range(nx):\n",
    "    for iy in range(ny):\n",
    "        xx = x[ix]\n",
    "        yy = y[iy]\n",
    "        uz[iy,ix] = u(xx,yy) ##<<<<<<This is not a typo: [iy,ix]\n",
    "        vz[iy,ix] = v(xx,yy)\n",
    "\n",
    "\n",
    "ucs = plt.contour(x, y, uz, colors=('r'))\n",
    "plt.clabel(ucs, inline=1, fontsize=10)\n",
    "vcs = plt.contour(x, y, vz, colors=('b'))\n",
    "plt.clabel(vcs, inline=1, fontsize=10)\n",
    "plt.grid()\n",
    "plt.show()\n",
    "\n"
   ]
  },
  {
   "cell_type": "markdown",
   "metadata": {},
   "source": [
    "#####3.2) Find all solutions. Using Newton's method. Make sure you start close to these points. If it doesnt' converge to the point you want, try moving the initial guess.\n",
    "\n",
    "Remember to plot to verify"
   ]
  },
  {
   "cell_type": "code",
   "execution_count": 23,
   "metadata": {
    "collapsed": false
   },
   "outputs": [
    {
     "name": "stdout",
     "output_type": "stream",
     "text": [
      "(-1.9763895175850146, 0.45847011287892553) (1.6114231956806973, 0.25028514266349605)\n"
     ]
    }
   ],
   "source": [
    "#formula u\n",
    "def u(x,y):\n",
    "    return np.exp((x-3)/2) + 2*y - 1\n",
    "#formula v\n",
    "def v(x,y):\n",
    "    return x**2 + x*y - 3\n",
    "#diff formala u wrt x\n",
    "def ux(x,y):\n",
    "    return 0.5*np.exp((x-3)/2)\n",
    "#diff formula u wrt x\n",
    "def uy(x,y):\n",
    "    return 2\n",
    "#diff formala u wrt y\n",
    "def vy(x,y):\n",
    "    return x\n",
    "#diff formula v wrt y\n",
    "def vx(x,y):\n",
    "    return 2*x + y\n",
    "def solve(x,y):\n",
    "    A = np.array([[ux(x,y), uy(x,y)]\n",
    "                ,[vx(x,y), vy(x,y)]])\n",
    "    \n",
    "    B = np.array( [-u(x,y) + ux(x,y)*x + uy(x,y)*y \n",
    "                  ,-v(x,y) + vx(x,y)*x + vy(x,y)*y ])\n",
    "    \n",
    "    return np.linalg.solve(A,B)\n",
    "\n",
    "def loopSolve(x,y,n):\n",
    "    for i in range(n):\n",
    "        x,y = solve(x,y)\n",
    "    return x,y\n",
    "one = loopSolve(-1,1,14)\n",
    "two = loopSolve(1,1,14)\n",
    "\n",
    "\n"
   ]
  },
  {
   "cell_type": "markdown",
   "metadata": {},
   "source": [
    "####4) Solving System Nonlinear Equations.\n",
    "Use Newton's method to solve this\n",
    "\n",
    "$$x + y + z = 6$$\n",
    "$$x^2 + y^2 + z^2 = 14$$\n",
    "$$x^3 + y^3 + z^3 = 36$$\n",
    "Use $x=1.0, y=0.0, z=-1.0$ as initial guess. (If you do it correctly your answer should be a permutation of 1,2,3)"
   ]
  },
  {
   "cell_type": "code",
   "execution_count": 25,
   "metadata": {
    "collapsed": false
   },
   "outputs": [
    {
     "data": {
      "text/plain": [
       "(2.9999999999999973, 0.99999999999999578, 2.0000000000000067)"
      ]
     },
     "execution_count": 25,
     "metadata": {},
     "output_type": "execute_result"
    }
   ],
   "source": [
    "def u(x,y,z):\n",
    "    return x + y + z - 6\n",
    "def v(x,y,z):\n",
    "    return x**2 + y**2 + z**2 - 14\n",
    "def w(x,y,z):\n",
    "    return x**3 + y**3 + z**3 - 36\n",
    "\n",
    "def ux(x,y,z):\n",
    "    return 1\n",
    "def uy(x,y,z):\n",
    "    return 1\n",
    "def uz(x,y,z):\n",
    "    return 1\n",
    "\n",
    "def vx(x,y,z):\n",
    "    return 2*x\n",
    "def vy(x,y,z):\n",
    "    return 2*y\n",
    "def vz(x,y,z):\n",
    "    return 2*z\n",
    "    \n",
    "def wx(x,y,z):\n",
    "    return 3*x**2\n",
    "def wy(x,y,z):\n",
    "    return 3*y**2\n",
    "def wz(x,y,z):\n",
    "    return 3*z**2\n",
    "\n",
    "\n",
    "def solve(x,y,z):\n",
    "    uxC = ux(x,y,z)\n",
    "    vxC = vx(x,y,z)\n",
    "    wxC = wx(x,y,z)\n",
    "        \n",
    "    uyC = uy(x,y,z)\n",
    "    vyC = vy(x,y,z)\n",
    "    wyC = wy(x,y,z)\n",
    "        \n",
    "    uzC = uz(x,y,z)\n",
    "    vzC = vz(x,y,z)\n",
    "    wzC = wz(x,y,z)\n",
    "        \n",
    "    uC = u(x,y,z)\n",
    "    vC = v(x,y,z)\n",
    "    wC = w(x,y,z)\n",
    "    \n",
    "    A = np.array([[uxC, uyC,uzC]\n",
    "                 ,[vxC, vyC,vzC]\n",
    "                 ,[wxC, wyC,wzC]\n",
    "                 ])\n",
    "    B = np.array([-uC + uxC*x + uyC*y +uzC*z,\n",
    "                  -vC + vxC*x + vyC*y+ vzC*z,\n",
    "                  -wC + wxC*x + wyC*y+ wzC*z])\n",
    "    return np.linalg.solve(A,B)\n",
    "\n",
    "def loopSolve(x,y,z,n):\n",
    "    for i in range(n):\n",
    "        x,y,z = solve(x,y,z)\n",
    "    return x,y,z\n",
    "loopSolve(1.0,0.0,-1.0,10)\n",
    "\n",
    "\n",
    "\n"
   ]
  },
  {
   "cell_type": "markdown",
   "metadata": {},
   "source": [
    "####5) Iterative solution. Gauss-Siedel.\n",
    "\n",
    "Gaussian elimination is actually quite expensive (It's $O(n^3)$). This method is actually what people use for large($n>10000$) problem.\n",
    "\n",
    "The idea of the method is actually quite simple. Let us consider a 2 variables problem\n",
    "$$ 5x + y = 6 \\hspace{1in} \\text{Equation A}$$\n",
    "$$ x + 10y = 7 \\hspace{1in} \\text{Equation B}$$\n",
    "\n",
    "The method works by first guess a solution. It doesn't have to be correct Let us guess\n",
    "$$x_0 =1, y_0 =0$$\n",
    "\n",
    "Then, $x_1$ can be found by plugging $y_0$ into Equation A and solve for $$x_1$$\n",
    "\n",
    "$$ x_1 = \\frac{6 - y_0}{5} = 1.2 $$\n",
    "\n",
    "we can then use $x_1$ plug into Equation B and solve for $y_1$. (Notice that we don't use $x_0$ at all. There is a closely related method call Jacobi Method that does that)\n",
    "\n",
    "$$ y_1 = \\frac{7 - x_1}{6} = 0.58$$\n",
    "\n",
    "We then repeat the process and find $x_2$ from $y_1$. Then $y_2$ from $x_2$.\n",
    "\n",
    "$$ x_2 = \\frac{6 - y_1}{5} = 1.084 $$\n",
    "$$ y_2 = \\frac{7 - x_2}{10} = 0.5916 $$\n",
    "\n",
    "We can keep doing this. After 10 iterations, you will find that \n",
    "\n",
    "$$x_{10} = 1.08163265306, y_{10} = 0.591836734694$$\n",
    "which is exactly our solution.\n",
    "\n",
    "One can actually write this algorithm in matrix form(see wikipedia) but I won't ask you to do that. That's actually how it's implemented for generic set of equation.\n",
    "\n",
    "This method converges really fast for special type of matrix called *diagonally dominant* matrix which means the diagonal element is bigger than the sum of the rest of the row. This actually happens a lot in real world applications. This method can also be extended to non-linear equations but usually Newton's method is faster. \n",
    "\n",
    "That being said, this method doesn't even guarantee convergence for other type of matrices. You may not get to the solutions."
   ]
  },
  {
   "cell_type": "markdown",
   "metadata": {},
   "source": [
    "#####5.1) Solve this using Gauss-Siedel. No need to write a generic solver. Do it for 10 iterations. (Anything after 6 or 7 iteration is essentially the same)\n",
    "\n",
    "$$ 5x + y = 6$$\n",
    "$$ x + 10y = 7$$"
   ]
  },
  {
   "cell_type": "code",
   "execution_count": 8,
   "metadata": {
    "collapsed": false
   },
   "outputs": [
    {
     "data": {
      "text/plain": [
       "('ans:', (1.0816326530612246, 0.5918367346938775))"
      ]
     },
     "execution_count": 8,
     "metadata": {},
     "output_type": "execute_result"
    }
   ],
   "source": [
    "def find_x(y):\n",
    "    return (6.0 - y)/5.0\n",
    "\n",
    "def find_y(x):\n",
    "    return (7.0 - x)/10.0\n",
    "\n",
    "def guess_siedel(x,y):\n",
    "    for i in xrange(10):\n",
    "        x = find_x(y)\n",
    "        y = find_y(x)\n",
    "    return x,y\n",
    "\"ans:\",guess_siedel(1,0)\n"
   ]
  },
  {
   "cell_type": "markdown",
   "metadata": {},
   "source": [
    "#####5.2) Solve this using Gauss-Siedel Method. Again, no need to write a generic solver.\n",
    "\n",
    "$$ 5x + y + 2z = 1$$\n",
    "$$ x + 10y +4z= 2$$\n",
    "$$ x + 2y +7z= 3$$\n",
    "\n",
    "Print out x,y,z for each iteration and stop when the guess doesn't change much any more.\n",
    "\n",
    "Besure to check your answer against the given equation."
   ]
  },
  {
   "cell_type": "code",
   "execution_count": 7,
   "metadata": {
    "collapsed": false
   },
   "outputs": [
    {
     "name": "stdout",
     "output_type": "stream",
     "text": [
      "(-0.4, -0.16, 0.5314285714285714)\n",
      "(0.01942857142857146, -0.014514285714285702, 0.4299428571428571)\n",
      "(0.03092571428571429, 0.024930285714285728, 0.4170305306122449)\n",
      "(0.028201730612244912, 0.030367614693877564, 0.4158661485714286)\n",
      "(0.027580017632653032, 0.03089553880816325, 0.41580412925014576)\n",
      "(0.027499240538309055, 0.030928424246110798, 0.4158062729956385)\n",
      "(0.02749180595252245, 0.03092831020649236, 0.41580736766207044)\n",
      "(0.027491390893873358, 0.030927913845784482, 0.41580754020207966)\n",
      "(0.02749140115001123, 0.03092784380416702, 0.4158075587488078)\n",
      "(0.02749140773964347, 0.03092783572651252, 0.4158075601153331)\n",
      "ans:  0.0274914077396 0.0309278357265 0.415807560115\n"
     ]
    }
   ],
   "source": [
    "def find_x(y,z):\n",
    "    return (1 - (y+ 2*z))/5.\n",
    "\n",
    "def find_y(x,z):\n",
    "    return  (2 - (x + 4*z))/10\n",
    "\n",
    "def find_z(x,y):\n",
    "    return (3-(x+2*y))/7.\n",
    "\n",
    "def guess_siedel(x,y,z):\n",
    "    for i in xrange(10):\n",
    "        x = find_x(y,z)\n",
    "        y = find_y(x,z)\n",
    "        z = find_z(x,y)\n",
    "        print (x,y,z)\n",
    "    return x,y,z\n",
    "x,y,z =guess_siedel(1,1,1)\n",
    "print \"ans: \", x,y,z\n",
    "\n"
   ]
  },
  {
   "cell_type": "code",
   "execution_count": null,
   "metadata": {
    "collapsed": true
   },
   "outputs": [],
   "source": []
  }
 ],
 "metadata": {
  "kernelspec": {
   "display_name": "Python 2",
   "language": "python",
   "name": "python2"
  },
  "language_info": {
   "codemirror_mode": {
    "name": "ipython",
    "version": 2
   },
   "file_extension": ".py",
   "mimetype": "text/x-python",
   "name": "python",
   "nbconvert_exporter": "python",
   "pygments_lexer": "ipython2",
   "version": "2.7.13"
  }
 },
 "nbformat": 4,
 "nbformat_minor": 0
}
